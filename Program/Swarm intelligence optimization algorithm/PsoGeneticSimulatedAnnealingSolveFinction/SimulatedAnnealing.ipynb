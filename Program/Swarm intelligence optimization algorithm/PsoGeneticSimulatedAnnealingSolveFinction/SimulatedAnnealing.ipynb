{
 "cells": [
  {
   "cell_type": "code",
   "execution_count": 1,
   "metadata": {
    "collapsed": true,
    "pycharm": {
     "name": "#%%\n",
     "is_executing": false
    }
   },
   "outputs": [],
   "source": [
    "import math\n",
    "import numpy as np\n",
    "import copy\n",
    "from matplotlib import pyplot as plt"
   ]
  },
  {
   "cell_type": "code",
   "execution_count": 2,
   "outputs": [],
   "source": [
    "class SimulateAnneal:\n",
    "    def __init__(self, target_func, interval = [0,10],min_temperature=1, max_temperature=100,\n",
    "                 cooling_alpha=0.9, iter_round=1000, deciml_digits=4,inner_loop_round=100\n",
    "                 ):\n",
    "        self.target_func = target_func  # 要求姐最大值的目标函数\n",
    "        self.x_interval = interval  # x取值区间\n",
    "        \n",
    "        self.temperature_pos = max_temperature  # 当前温度\n",
    "        self.max_temperature = max_temperature  # 最大温度\n",
    "        self.min_temperature = min_temperature  # 停止迭代时的最小温度\n",
    "\n",
    "        self.research_step = math.pow(1,-deciml_digits)   # 产生新解时的搜索步长 \n",
    "        self.cooling_alpha = cooling_alpha  # 降温系数\n",
    "        self.iter_round = iter_round  # 最大迭代次数\n",
    "\n",
    "        self.solution_local = np.random.randint(self.x_interval[0], high=self.x_interval[1])*\\\n",
    "                              np.random.rand()*self.research_step  # 随机初始化初始解\n",
    "\n",
    "        self.iter_round_local = 0  # 当前迭代次数\n",
    "\n",
    "        self.best_solution = copy.deepcopy(self.solution_local) # 最优解\n",
    "        self.best_solution_func_val = self.target_func(self.best_solution)  # 最优解的函数值\n",
    "\n",
    "        self.inner_loop_round = inner_loop_round  # 内循环次数\n",
    "\n",
    "        self.best_solution_iter = []  # 记录最优解随迭代过程的变化\n",
    "        self.best_solution_func_val_iter = []  # # 记录最优解的函数值随迭代过程的变化\n",
    "\n",
    "    # 随机初始化初始解\n",
    "    def __solution_init(self):\n",
    "        self.solution_local = np.random.randint(self.x_interval[0], high=self.x_interval[1])*\\\n",
    "                              np.random.rand()*self.research_step\n",
    "\n",
    "    # 迭代停止控制\n",
    "    def stop_control(self):\n",
    "        return self.iter_round_local >= self.iter_round or self.temperature_pos <= self.min_temperature\n",
    "\n",
    "    # 随机在当前解周围产生新解\n",
    "    def __generate_solution(self):\n",
    "        new_solution = self.solution_local + \\\n",
    "               np.random.uniform(low=-self.research_step,high=self.research_step)*self.temperature_pos\n",
    "        while True:\n",
    "            if self.x_interval[0] < new_solution < self.x_interval[1]:\n",
    "                break\n",
    "            new_solution = self.solution_local + \\\n",
    "               np.random.uniform(low=-self.research_step,high=self.research_step)*self.temperature_pos\n",
    "        return new_solution\n",
    "\n",
    "    # 更新最优解，最优解对应的函数值\n",
    "    def _update_best_solution(self, new_solution, new_solution_func_val):\n",
    "        if new_solution_func_val > self.best_solution_func_val:\n",
    "            self.best_solution = copy.deepcopy(new_solution)\n",
    "            self.best_solution_func_val = self.target_func(self.best_solution)\n",
    "\n",
    "    # 记录最优解、最优解的函数值随迭代过程的变化\n",
    "    def iter_record(self):\n",
    "        self.best_solution_iter.append(self.best_solution)\n",
    "        self.best_solution_func_val_iter.append(self.best_solution_func_val)\n",
    "        \n",
    "    # 当前温度水平下的内部循环调整寻优过程\n",
    "    def inner_loop(self):\n",
    "        for _ in range(self.inner_loop_round):\n",
    "            if self.stop_control():\n",
    "                break\n",
    "            # 在当前解的基础上左右随机搜索产生新解\n",
    "            new_solution = self.__generate_solution()\n",
    "            new_solution_func_val = self.target_func(new_solution)\n",
    "            # 计算旧解的函数值\n",
    "            local_solution_func_val = self.target_func(self.solution_local)\n",
    "            dE =  local_solution_func_val - new_solution_func_val\n",
    "            if dE <= 0:\n",
    "                # 新解更优，接受新解\n",
    "                self.solution_local = new_solution\n",
    "                self._update_best_solution(new_solution, new_solution_func_val)\n",
    "            else:\n",
    "                # 新解比较差，一定给定概率接受新解\n",
    "                rand_point = np.random.rand()\n",
    "                if rand_point <= np.exp(-dE / self.temperature_pos):\n",
    "                    self.solution_local = new_solution\n",
    "            # 记录最优解、最优解的函数值随迭代过程的变化\n",
    "            self.iter_record()\n",
    "            # 迭代计数加一\n",
    "            self.iter_round_local += 1\n",
    "\n",
    "    # 绘制最优解和最优解的函数值随迭代而变化的过程\n",
    "    def plot_iter(self, pic_save_dir):\n",
    "        x = [iter_i for iter_i in range(1, len(self.best_solution_iter) + 1)]\n",
    "        y_list = [self.best_solution_iter, self.best_solution_func_val_iter]\n",
    "        y_lable_list = ['best_solution','best_solution_func_val']\n",
    "        for y_index in range(len(y_list)):\n",
    "            plt.plot(x, y_list[y_index], label=y_lable_list[y_index])\n",
    "            plt.xlabel(r'iter_round')\n",
    "            plt.ylabel(y_lable_list[y_index])\n",
    "            plt.savefig(pic_save_dir + r'\\\\SimulatedAnneal_'+ y_lable_list[y_index]+'.png')\n",
    "            plt.show()\n",
    "\n",
    "    # 函数主程\n",
    "    def simulate_anneal_tsp_engine(self, pic_save_dir):\n",
    "        while not self.stop_control():\n",
    "            # 内循环\n",
    "            self.inner_loop()\n",
    "            # 一次降温\n",
    "            self.temperature_pos = self.temperature_pos * self.cooling_alpha\n",
    "        print('Simulated Anneal:')\n",
    "        print('best solution of x:', self.best_solution)\n",
    "        print('best function val of x:', self.best_solution_func_val)\n",
    "        return self.plot_iter(pic_save_dir)\n"
   ],
   "metadata": {
    "collapsed": false,
    "pycharm": {
     "name": "#%%\n",
     "is_executing": false
    }
   }
  },
  {
   "cell_type": "code",
   "execution_count": 3,
   "outputs": [],
   "source": [
    "target_func = lambda x: -(x+2)*(x+1)*(x-3)*(x-4)\n",
    "pic_save_dir = r'D:\\WORK__wells\\Other Program\\Function Solution'"
   ],
   "metadata": {
    "collapsed": false,
    "pycharm": {
     "name": "#%%\n",
     "is_executing": false
    }
   }
  },
  {
   "cell_type": "code",
   "execution_count": 4,
   "outputs": [],
   "source": [
    "test_simuanneal = SimulateAnneal(target_func, interval = [0,10],min_temperature=25, max_temperature=100,\n",
    "                                 cooling_alpha=0.9, iter_round=500, deciml_digits=3,inner_loop_round=100)"
   ],
   "metadata": {
    "collapsed": false,
    "pycharm": {
     "name": "#%%\n",
     "is_executing": false
    }
   }
  },
  {
   "cell_type": "code",
   "execution_count": 5,
   "outputs": [
    {
     "name": "stdout",
     "text": [
      "Simulated Anneal:\nbest solution of x: 3.5485649144798694\nbest function val of x: 6.249976797699028\n"
     ],
     "output_type": "stream"
    },
    {
     "data": {
      "text/plain": "<Figure size 432x288 with 1 Axes>",
      "image/png": "[encoded data removed]"
     },
     "metadata": {
      "needs_background": "light"
     },
     "output_type": "display_data"
    },
    {
     "data": {
      "text/plain": "<Figure size 432x288 with 1 Axes>",
      "image/png": "[encoded data removed]"
     },
     "metadata": {
      "needs_background": "light"
     },
     "output_type": "display_data"
    }
   ],
   "source": [
    "test_simuanneal.simulate_anneal_tsp_engine(pic_save_dir)"
   ],
   "metadata": {
    "collapsed": false,
    "pycharm": {
     "name": "#%%\n",
     "is_executing": false
    }
   }
  },
  {
   "cell_type": "code",
   "execution_count": null,
   "outputs": [],
   "source": [
    "\n"
   ],
   "metadata": {
    "collapsed": false,
    "pycharm": {
     "name": "#%%\n"
    }
   }
  }
 ],
 "metadata": {
  "language_info": {
   "codemirror_mode": {
    "name": "ipython",
    "version": 2
   },
   "file_extension": ".py",
   "mimetype": "text/x-python",
   "name": "python",
   "nbconvert_exporter": "python",
   "pygments_lexer": "ipython2",
   "version": "2.7.6"
  },
  "kernelspec": {
   "name": "python3",
   "language": "python",
   "display_name": "Python 3"
  },
  "pycharm": {
   "stem_cell": {
    "cell_type": "raw",
    "source": [],
    "metadata": {
     "collapsed": false
    }
   }
  }
 },
 "nbformat": 4,
 "nbformat_minor": 0
}