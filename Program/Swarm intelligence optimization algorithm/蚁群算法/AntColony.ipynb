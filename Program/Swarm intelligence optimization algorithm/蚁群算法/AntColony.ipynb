{
 "cells": [
  {
   "cell_type": "code",
   "execution_count": 31,
   "metadata": {
    "collapsed": true
   },
   "outputs": [],
   "source": [
    "import sys\n",
    "import numpy as np\n",
    "from matplotlib import pyplot as plt"
   ]
  },
  {
   "cell_type": "code",
   "execution_count": 2,
   "metadata": {},
   "outputs": [],
   "source": [
    "class CoordinateProcess:\n",
    "    def __init__(self, num_cities=20, min_coord=1, max_coord=5):\n",
    "        self.num_cities = num_cities  # 要创建的坐标点的数量\n",
    "        self.min_coord = min_coord  # 最大坐标范围\n",
    "        self.max_coord = max_coord  # 最小坐标范围\n",
    "\n",
    "        self.coordinate = self.generate_coordnte()  # 生成随机坐标点\n",
    "        self.distance_matrix = self.calculate_distance_matrix()  # 各坐标点之间的距离矩阵\n",
    "        self.plot_cities()  # 将生成的随机坐标点以散点图的形式绘制出来\n",
    "\n",
    "    def generate_coordnte(self):\n",
    "        return np.random.randint(self.min_coord, self.max_coord, size=(self.num_cities, 2))\n",
    "\n",
    "    def calculate_distance_dot(self, dot1, dot2):  # 计算两个坐标点之间的位置\n",
    "        return np.sqrt(np.power(dot1 - dot2, 2).sum())\n",
    "\n",
    "    def calculate_distance_matrix(self):\n",
    "        d_mtrx = np.zeros((self.coordinate.shape[0], self.coordinate.shape[0]))\n",
    "        for indexi in range(d_mtrx.shape[0]):\n",
    "            for indexj in range(d_mtrx.shape[0]):\n",
    "                if indexi == indexj:\n",
    "                    continue\n",
    "                d_mtrx[indexi][indexj] = self.calculate_distance_dot(self.coordinate[indexi], self.coordinate[indexj])\n",
    "        return d_mtrx\n",
    "    \n",
    "    def plot_cities(self):\n",
    "        plt.title(\"City Coordinate\")\n",
    "        plt.xlabel(\"x\")\n",
    "        plt.ylabel(\"y\")\n",
    "        plt.scatter(self.coordinate[:, 0], self.coordinate[:, 1])\n",
    "        plt.show()\n"
   ]
  },
  {
   "cell_type": "code",
   "execution_count": 27,
   "metadata": {},
   "outputs": [],
   "source": [
    "class AntColony:\n",
    "    def __init__(self, num_cities=10, min_coord=1, max_coord=20, ant_size=8, info_alpha=1, \n",
    "                 heu_beta=5, phe_decay=0.1, phe_amount=1, max_iter=100):\n",
    "        self.coordinate_generator = CoordinateProcess(num_cities, min_coord, max_coord)  # 坐标产生器\n",
    "        \n",
    "        self.coordinate_matrix = self.coordinate_generator.coordinate  # 坐标矩阵\n",
    "        self.distance_matrix = self.coordinate_generator.distance_matrix  # 距离矩阵\n",
    "        self.max_iter = max_iter  # 最大迭代次数\n",
    "\n",
    "        self.ant_size = ant_size  # 蚁群大小\n",
    "        self.info_alpha = info_alpha  # 信息素重要度因子\n",
    "        self.phe_beta = heu_beta  # 启发函数重要度因子\n",
    "        self.phe_decay = phe_decay  # 信息素衰减系数\n",
    "        self.phe_amount = phe_amount  # 蚂蚁信息素散布量\n",
    "        \n",
    "        self.city_index = np.array([i for i in range(num_cities)])  # 城市索引\n",
    "        self.phe_matrix = np.ones(self.distance_matrix.shape)  # 道路残留信息素矩阵,初始化为1\n",
    "\n",
    "        self.ant_pos = np.array([np.random.randint(0, num_cities) for _ in range(self.ant_size)])  # 蚂蚁初始位置\n",
    "        self.ant_path_collector = np.array([[self.ant_pos[ant_index]] for ant_index in range(self.ant_size)])  # 蚂蚁路径记录器\n",
    "        self.city_allow = np.array([[city_index for city_index in range(num_cities) \n",
    "                                     if city_index != self.ant_pos[i]] for i in range(self.ant_size)])  # 城市禁忌表\n",
    "        self.ant_visitprob = np.zeros(self.city_allow.shape)  # 存储所有蚂蚁访问各城市的概率，初始化为0\n",
    "        self.best_path = np.array([])  # 最优路径\n",
    "        self.best_path_length = sys.maxsize  # 最优路径的长度\n",
    "        \n",
    "    def ant_phe_distribute(self):\n",
    "        pass\n",
    "    \n",
    "    def refresh_road_phe(self):\n",
    "        pass\n",
    "    \n",
    "    def refresh_ant_visitprob(self):\n",
    "        pass\n",
    "    \n",
    "    def ant_visit(self):\n",
    "        pass\n",
    "    \n",
    "    def stop_control(self, iter_round):\n",
    "        return iter_round >= self.max_iter\n",
    "        \n",
    "    \n",
    "        \n",
    "        \n",
    "\n",
    "    "
   ]
  },
  {
   "cell_type": "code",
   "execution_count": 32,
   "metadata": {},
   "outputs": [
    {
     "data": {
      "text/plain": [
       "9223372036854775807"
      ]
     },
     "execution_count": 32,
     "metadata": {},
     "output_type": "execute_result"
    }
   ],
   "source": [
    "sys.maxsize"
   ]
  },
  {
   "cell_type": "code",
   "execution_count": 28,
   "metadata": {},
   "outputs": [
    {
     "data": {
      "text/plain": [
       "array([0, 3, 3, 5, 5, 0, 4, 5])"
      ]
     },
     "execution_count": 28,
     "metadata": {},
     "output_type": "execute_result"
    }
   ],
   "source": [
    "antcolony = AntColony()\n",
    "antcolony.ant_pos"
   ]
  },
  {
   "cell_type": "code",
   "execution_count": 29,
   "metadata": {},
   "outputs": [
    {
     "data": {
      "text/plain": [
       "array([[1, 2, 3, 4, 5, 6, 7, 8, 9],\n       [0, 1, 2, 4, 5, 6, 7, 8, 9],\n       [0, 1, 2, 4, 5, 6, 7, 8, 9],\n       [0, 1, 2, 3, 4, 6, 7, 8, 9],\n       [0, 1, 2, 3, 4, 6, 7, 8, 9],\n       [1, 2, 3, 4, 5, 6, 7, 8, 9],\n       [0, 1, 2, 3, 5, 6, 7, 8, 9],\n       [0, 1, 2, 3, 4, 6, 7, 8, 9]])"
      ]
     },
     "execution_count": 29,
     "metadata": {},
     "output_type": "execute_result"
    }
   ],
   "source": [
    "antcolony.city_allow"
   ]
  },
  {
   "cell_type": "code",
   "execution_count": null,
   "metadata": {},
   "outputs": [],
   "source": []
  }
 ],
 "metadata": {
  "kernelspec": {
   "display_name": "Python 2",
   "language": "python",
   "name": "python2"
  },
  "language_info": {
   "codemirror_mode": {
    "name": "ipython",
    "version": 2
   },
   "file_extension": ".py",
   "mimetype": "text/x-python",
   "name": "python",
   "nbconvert_exporter": "python",
   "pygments_lexer": "ipython2",
   "version": "2.7.6"
  }
 },
 "nbformat": 4,
 "nbformat_minor": 0
}
