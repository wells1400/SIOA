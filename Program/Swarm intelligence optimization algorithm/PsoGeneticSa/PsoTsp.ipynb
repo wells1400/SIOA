{
 "cells": [
  {
   "cell_type": "code",
   "execution_count": 2,
   "metadata": {
    "collapsed": true,
    "pycharm": {
     "is_executing": false
    }
   },
   "outputs": [],
   "source": [
    "import sys\n",
    "import math\n",
    "import numpy as np\n",
    "from random import getrandbits,uniform,random,randint\n",
    "from matplotlib import pyplot as plt"
   ]
  },
  {
   "cell_type": "code",
   "execution_count": 3,
   "outputs": [],
   "source": [
    "# 点坐标生成模块\n",
    "from CityGenerator import CoordinateProcess\n"
   ],
   "metadata": {
    "collapsed": false,
    "pycharm": {
     "name": "#%%\n",
     "is_executing": false
    }
   }
  },
  {
   "cell_type": "code",
   "execution_count": 4,
   "outputs": [],
   "source": [
    "# 粒子群算法\n",
    "# 单目标pso-w 优化方法，支持多维粒子\n",
    "class ParticalSwarmOptimization:\n",
    "\n",
    "    def __init__(self, fitness_func=None, x_interval=[-3, 3], partical_size=100,\n",
    "                 partical_dimen=2, num_iter_round=100, inertial_weight=0.9,\n",
    "                 c1=2, c2=2, partical_max_vel=0.5):\n",
    "        self.val_func_pool = BaseEvaluationFunction()  # 未指定适应度函数的话，默认测试函数库\n",
    "        self.val_func = self.val_func_pool.sphere if fitness_func is None else fitness_func  # 默认sphere适应度函数\n",
    "        self.visual_plot = PlotEvaluation3D(xinterval_min=x_interval[0],\n",
    "                                            xinterval_max=x_interval[1])  # 默认sphere适应度函数可视化\n",
    "        self.param_min = x_interval[0]  # 解范围\n",
    "        self.param_max = x_interval[1]  # 解范围\n",
    "\n",
    "        self.partical_size = partical_size  # 粒子个数\n",
    "        self.partical_dimen = partical_dimen  # 粒子维度\n",
    "        self.partical_max_vel = partical_max_vel  # 粒子最大速度\n",
    "\n",
    "        self.partical_pos = np.array([])  # 储存各粒子当前的位置向量，内部元素应该是np.arrary\n",
    "        self.partical_vel = np.array([])  # 储存各粒子当前的速度向量，内部元素应该是np.arrary\n",
    "        self.partical_fitness = np.array([])  # 储存各粒子当前的适应度，内部元素应该是常量\n",
    "\n",
    "        self.partical_pb_pos = np.array([])  # 储存各粒子当前的个体历史最优位置向量，内部元素应该是np.arrary\n",
    "        self.partical_gb_pos = np.zeros(self.partical_dimen)  # 粒子群当前全局最优位置\n",
    "\n",
    "        self.partical_pb_fitness = np.array([])  # 储存各粒子当前的个体历史最优位置的适应值，内部元素应该是常量\n",
    "        self.partical_gb_fitness = 0  # 粒子群当前全局最优适应度\n",
    "\n",
    "        self.inertial_weight = inertial_weight  # 粒子惯性权重\n",
    "        self.param_c1 = c1  # 位置更新常数系数\n",
    "        self.param_c2 = c2  # 位置更新常数系数\n",
    "        self.num_iter_round = num_iter_round  # PSO算法迭代次数\n",
    "\n",
    "        self.gb_val_revord = []\n",
    "        self.pb_val_mean_record = []\n",
    "\n",
    "    def plot_sample(self):\n",
    "        self.visual_plot.plot_sphere()\n",
    "\n",
    "    def partial_init(self):\n",
    "        '''\n",
    "        :return:所有粒子位置和速度进行初始化\n",
    "        '''\n",
    "        self.partical_pos = np.array(\n",
    "            [self.param_min + (self.param_max - self.param_min) * np.random.random(self.partical_dimen) for _ in\n",
    "             range(self.partical_size)])\n",
    "        self.partical_vel = np.array(\n",
    "            [self.partical_max_vel * np.random.random(self.partical_dimen) for _ in range(self.partical_size)])\n",
    "        self.calcult_fitness()\n",
    "\n",
    "        self.partical_pb_fitness = np.array([0 for _ in range(self.partical_size)])\n",
    "        self.partical_pb_pos = np.array([self.partical_pos[i] for i in range(self.partical_size)])\n",
    "\n",
    "        self.partical_gb_fitness = self.partical_pb_fitness[0]\n",
    "        self.partical_gb_pos = self.partical_pb_pos[0]\n",
    "\n",
    "    def calcult_fitness(self):\n",
    "        '''\n",
    "        :return: 计算粒子的适应度\n",
    "        '''\n",
    "        self.partical_fitness = np.array([1 / self.val_func(partical_pos) for partical_pos in self.partical_pos])\n",
    "\n",
    "    def search_pbgb(self):\n",
    "        '''\n",
    "        搜索粒子个体最优解和全局最优解\n",
    "        :return:\n",
    "        '''\n",
    "        gp_flag = -1\n",
    "        # 对于pb 返回一个一维0,1 np.array 0代表粒子在新位置的适应度不如历史pb,无需更改pb相关值，1代表需要进行更改\n",
    "        pb_flag_list = [0 if self.partical_fitness[i] <= self.partical_pb_fitness[i] else 1 for i in\n",
    "                        range(self.partical_size)]\n",
    "        # 对于gp 返回一个常数Flag 如果无需更改返回-1，否则返回pb_fitness的index\n",
    "        if self.partical_pb_fitness.max() > self.partical_gb_fitness:\n",
    "            gp_flag = np.argmax(self.partical_pb_fitness)\n",
    "        return pb_flag_list, gp_flag\n",
    "\n",
    "    def udpate_pos_vel(self):\n",
    "        '''\n",
    "        更新所有粒子的速度和位置，代表向前搜索一步\n",
    "        :return:\n",
    "        '''\n",
    "        self.partical_vel = self.inertial_weight * self.partical_vel + \\\n",
    "                            self.param_c1 * np.random.random() * (self.partical_pb_pos - self.partical_pos) + \\\n",
    "                            self.param_c2 * np.random.random() * (self.partical_gb_pos - self.partical_pos)\n",
    "        self.partical_pos = self.partical_pos + self.partical_vel\n",
    "\n",
    "    def update_pbgb(self):\n",
    "        '''\n",
    "        更新个体极值和当前全局最优值,(包括位置和适应值)\n",
    "        :return:\n",
    "        '''\n",
    "        pb_flag_list, gp_flag = self.search_pbgb()\n",
    "        for index in range(len(pb_flag_list)):\n",
    "            flag = pb_flag_list[index]\n",
    "            if flag == 1:\n",
    "                self.partical_pb_pos[index] = self.partical_pos[index]\n",
    "                self.partical_pb_fitness[index] = self.partical_fitness[index]\n",
    "        if gp_flag != -1:\n",
    "            self.partical_gb_fitness = self.partical_pb_fitness[gp_flag]\n",
    "            self.partical_gb_pos = self.partical_pb_pos[gp_flag]\n",
    "\n",
    "    def stop_control(self, iter_round_counter):\n",
    "        '''\n",
    "        算法迭代终止控制函数\n",
    "        :param iter_round_counter:\n",
    "        :return:\n",
    "        '''\n",
    "        return iter_round_counter >= self.num_iter_round\n",
    "\n",
    "    def iter_info_record(self):\n",
    "        '''\n",
    "        记录每一次迭代粒子个体最优均值和全局最优位置的均值\n",
    "        :return:\n",
    "        '''\n",
    "        pb_val_mean = np.array(\n",
    "            [self.val_func(self.partical_pb_pos[i]) for i in range(len(self.partical_pb_pos))]).mean()\n",
    "        self.pb_val_mean_record.append(pb_val_mean)\n",
    "        self.gb_val_revord.append(self.val_func(self.partical_gb_pos))\n",
    "\n",
    "    def plot_iter_info(self):\n",
    "        '''\n",
    "        :return: 迭代过程个体最优均值和全局最优指标绘制\n",
    "        '''\n",
    "        x = [iter_i for iter_i in range(1, self.num_iter_round + 1)]\n",
    "        y_list = [self.pb_val_mean_record, self.gb_val_revord]\n",
    "        y_lable_list = ['mean_pb_val', 'gb_val']\n",
    "        for y_index in range(len(y_list)):\n",
    "            plt.plot(x, y_list[y_index], label=y_lable_list[y_index])\n",
    "            plt.xlabel(r'iter_round')\n",
    "            plt.ylabel(y_lable_list[y_index])\n",
    "            plt.show()\n",
    "\n",
    "    def pso_engine(self):\n",
    "        '''\n",
    "        :return: 算法运行主体\n",
    "        '''\n",
    "        # 初始化\n",
    "        self.partial_init()\n",
    "        # 迭代\n",
    "        iter_round_counter = 0\n",
    "        while True:\n",
    "            if not self.stop_control(iter_round_counter):\n",
    "                self.calcult_fitness()\n",
    "                self.search_pbgb()\n",
    "                self.update_pbgb()\n",
    "                self.udpate_pos_vel()\n",
    "                self.iter_info_record()\n",
    "                iter_round_counter += 1\n",
    "            else:\n",
    "                break\n",
    "        return self.plot_iter_info()\n",
    "    "
   ],
   "metadata": {
    "collapsed": false,
    "pycharm": {
     "name": "#%%\n",
     "is_executing": false
    }
   }
  },
  {
   "cell_type": "code",
   "execution_count": 7,
   "outputs": [],
   "source": [
    "class PsoTsp:\n",
    "    def __init__(self, city_coord, distance_matrix, partical_size=50, iter_round=1000, inertial_weight=0.9,\n",
    "                 c1=2, c2=2):\n",
    "        self.city_coord = city_coord  # 城市坐标\n",
    "        self.distance_matrix = distance_matrix  # 距离矩阵\n",
    "        self.sorted_edge = self.cal_sorted_edge()  # 计算距离排序矩阵\n",
    "        \n",
    "        self.partical_size = partical_size  # 粒子个数\n",
    "        self.iter_round = iter_round  # 迭代次数\n",
    "        self.inertial_weight = inertial_weight  # 惯性系数\n",
    "        self.var_c1 = c1  # 常数系数c1\n",
    "        self.var_c2 = c2  # 常数系数c2\n",
    "        \n",
    "        self.partical_pos = []  # 粒子群位置列表\n",
    "        self.partical_vel = []  # 粒子群速度列表\n",
    "        self.partical_fitness = []  # 粒子群适应度列表\n",
    "    \n",
    "        # 产生随机粒子\n",
    "    def __encode(self):\n",
    "        init_particle = [i for i in range(len(self.city_coord))]\n",
    "        np.random.shuffle(init_particle)\n",
    "        return init_particle\n",
    "    \n",
    "    #  停止控制\n",
    "    def stop_control(self, iter_round_counter):\n",
    "        '''\n",
    "        算法迭代终止控制函数\n",
    "        :param iter_round_counter:\n",
    "        :return:\n",
    "        '''\n",
    "        return iter_round_counter >= self.iter_round\n",
    "    \n",
    "    # 计算距离排序矩阵\n",
    "    def cal_sorted_edge(self):\n",
    "        res_list = []\n",
    "        cp_distance_matrix = self.distance_matrix.copy()\n",
    "        for edge_index in range(len(cp_distance_matrix)):\n",
    "            distance_edge = cp_distance_matrix[edge_index]\n",
    "            distance_edge[edge_index] = sys.maxsize\n",
    "            tmp_container = []\n",
    "            while len(tmp_container) < len(distance_matrix)-1:\n",
    "                min_distance, min_index = np.min(distance_edge), np.argmin(distance_edge)\n",
    "                tmp_container.append(min_index)\n",
    "                distance_edge[min_index] = sys.maxsize\n",
    "            res_list.append(tmp_container)\n",
    "        return res_list\n",
    "    \n",
    "    # 计算短边库长度参数m\n",
    "    def cal_m(self, iter_round):\n",
    "        N = len(self.city_coord)\n",
    "        return round((N-1) - (N-5)*iter_round/self.iter_round)\n",
    "    \n",
    "    \n",
    "        \n"
   ],
   "metadata": {
    "collapsed": false,
    "pycharm": {
     "name": "#%%\n",
     "is_executing": false
    }
   }
  },
  {
   "cell_type": "code",
   "execution_count": 6,
   "outputs": [
    {
     "data": {
      "text/plain": "3628800"
     },
     "metadata": {},
     "output_type": "execute_result",
     "execution_count": 6
    }
   ],
   "source": [],
   "metadata": {
    "collapsed": false,
    "pycharm": {
     "name": "#%%\n",
     "is_executing": false
    }
   }
  },
  {
   "cell_type": "code",
   "execution_count": 15,
   "outputs": [
    {
     "data": {
      "text/plain": "<Figure size 432x288 with 1 Axes>",
      "image/png": "[encoded data removed]"
     },
     "metadata": {
      "needs_background": "light"
     },
     "output_type": "display_data"
    }
   ],
   "source": [
    "# 点坐标、距离矩阵\n",
    "coord_generator = CoordinateProcess(num_cities=10, min_coord=1, max_coord=100)\n",
    "coord_generator.plot_cities()\n",
    "city_coord = coord_generator.coordinate\n",
    "distance_matrix = coord_generator.distance_matrix"
   ],
   "metadata": {
    "collapsed": false,
    "pycharm": {
     "name": "#%%\n",
     "is_executing": false
    }
   }
  },
  {
   "cell_type": "code",
   "execution_count": 16,
   "outputs": [],
   "source": [
    "test_pso = PsoTsp(city_coord, distance_matrix,\n",
    "                  partical_size=50, iter_round=1000, inertial_weight=0.9,c1=2, c2=2)"
   ],
   "metadata": {
    "collapsed": false,
    "pycharm": {
     "name": "#%%\n",
     "is_executing": false
    }
   }
  },
  {
   "cell_type": "code",
   "execution_count": 17,
   "outputs": [
    {
     "data": {
      "text/plain": "array([[  0.        ,  45.89117562,  46.95742753,  37.16180835,\n         69.42621983,  57.00877125,  26.07680962,  57.48912941,\n         35.35533906,  18.02775638],\n       [ 45.89117562,   0.        ,  56.36488268,  65.        ,\n         37.65634077,  96.5194281 ,  46.23851209,  93.30058949,\n         35.60898763,  60.00833275],\n       [ 46.95742753,  56.36488268,   0.        ,  84.09518417,\n         93.30058949,  56.08029957,  70.60453243, 102.30347013,\n         73.10950691,  41.10960958],\n       [ 37.16180835,  65.        ,  84.09518417,   0.        ,\n         68.0661443 ,  81.49233093,  18.78829423,  29.15475947,\n         32.14031736,  49.25444142],\n       [ 69.42621983,  37.65634077,  93.30058949,  68.0661443 ,\n          0.        , 125.89678312,  53.85164807,  96.42095208,\n         38.07886553,  86.97700846],\n       [ 57.00877125,  96.5194281 ,  56.08029957,  81.49233093,\n        125.89678312,   0.        ,  80.0624756 ,  82.49242389,\n         92.08691547,  39.05124838],\n       [ 26.07680962,  46.23851209,  70.60453243,  18.78829423,\n         53.85164807,  80.0624756 ,   0.        ,  47.29693436,\n         15.8113883 ,  42.72001873],\n       [ 57.48912941,  93.30058949, 102.30347013,  29.15475947,\n         96.42095208,  82.49242389,  47.29693436,   0.        ,\n         61.29437168,  62.12889827],\n       [ 35.35533906,  35.60898763,  73.10950691,  32.14031736,\n         38.07886553,  92.08691547,  15.8113883 ,  61.29437168,\n          0.        ,  53.33854141],\n       [ 18.02775638,  60.00833275,  41.10960958,  49.25444142,\n         86.97700846,  39.05124838,  42.72001873,  62.12889827,\n         53.33854141,   0.        ]])"
     },
     "metadata": {},
     "output_type": "execute_result",
     "execution_count": 17
    }
   ],
   "source": [
    "test_pso.distance_matrix"
   ],
   "metadata": {
    "collapsed": false,
    "pycharm": {
     "name": "#%%\n",
     "is_executing": false
    }
   }
  },
  {
   "cell_type": "code",
   "execution_count": 18,
   "outputs": [
    {
     "data": {
      "text/plain": "[[9, 6, 8, 3, 1, 2, 5, 7, 4],\n [8, 4, 0, 6, 2, 9, 3, 7, 5],\n [9, 0, 5, 1, 6, 8, 3, 4, 7],\n [6, 7, 8, 0, 9, 1, 4, 5, 2],\n [1, 8, 6, 3, 0, 9, 2, 7, 5],\n [9, 2, 0, 6, 3, 7, 8, 1, 4],\n [8, 3, 0, 9, 1, 7, 4, 2, 5],\n [3, 6, 0, 8, 9, 5, 1, 4, 2],\n [6, 3, 0, 1, 4, 9, 7, 2, 5],\n [0, 5, 2, 6, 3, 8, 1, 7, 4]]"
     },
     "metadata": {},
     "output_type": "execute_result",
     "execution_count": 18
    }
   ],
   "source": [
    "test_pso.sorted_edge"
   ],
   "metadata": {
    "collapsed": false,
    "pycharm": {
     "name": "#%%\n",
     "is_executing": false
    }
   }
  },
  {
   "cell_type": "code",
   "execution_count": null,
   "outputs": [],
   "source": [
    "\n"
   ],
   "metadata": {
    "collapsed": false,
    "pycharm": {
     "name": "#%%\n"
    }
   }
  }
 ],
 "metadata": {
  "language_info": {
   "codemirror_mode": {
    "name": "ipython",
    "version": 2
   },
   "file_extension": ".py",
   "mimetype": "text/x-python",
   "name": "python",
   "nbconvert_exporter": "python",
   "pygments_lexer": "ipython2",
   "version": "2.7.6"
  },
  "kernelspec": {
   "name": "python3",
   "language": "python",
   "display_name": "Python 3"
  },
  "pycharm": {
   "stem_cell": {
    "cell_type": "raw",
    "source": [],
    "metadata": {
     "collapsed": false
    }
   }
  }
 },
 "nbformat": 4,
 "nbformat_minor": 0
}