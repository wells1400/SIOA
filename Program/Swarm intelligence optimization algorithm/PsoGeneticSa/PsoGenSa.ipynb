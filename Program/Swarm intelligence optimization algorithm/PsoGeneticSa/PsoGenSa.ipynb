{
 "cells": [
  {
   "cell_type": "code",
   "execution_count": 1,
   "metadata": {
    "collapsed": true,
    "pycharm": {
     "is_executing": false
    }
   },
   "outputs": [],
   "source": [
    "import numpy as np\n",
    "import pandas as pd\n",
    "import matplotlib.pyplot as plt"
   ]
  },
  {
   "cell_type": "code",
   "execution_count": 2,
   "outputs": [],
   "source": [
    "# 点坐标生成模块\n",
    "from CityGenerator import CoordinateProcess"
   ],
   "metadata": {
    "collapsed": false,
    "pycharm": {
     "name": "#%%\n",
     "is_executing": false
    }
   }
  },
  {
   "cell_type": "code",
   "execution_count": 5,
   "outputs": [
    {
     "data": {
      "text/plain": "<Figure size 432x288 with 1 Axes>",
      "image/png": "[encoded data removed]"
     },
     "metadata": {
      "needs_background": "light"
     },
     "output_type": "display_data"
    }
   ],
   "source": [
    "# 生成坐标\n",
    "coord_generator = CoordinateProcess(num_cities=12, min_coord=1, max_coord=100)\n",
    "coord_generator.plot_cities()"
   ],
   "metadata": {
    "collapsed": false,
    "pycharm": {
     "name": "#%%\n",
     "is_executing": false
    }
   }
  },
  {
   "cell_type": "code",
   "execution_count": 8,
   "outputs": [
    {
     "data": {
      "text/plain": "array([[ 0.        , 86.83317338, 74.63243263, 54.67174773, 11.3137085 ,\n        68.44705983, 40.52159918, 47.4341649 , 12.08304597, 45.89117562,\n        64.35060217, 82.85529555],\n       [86.83317338,  0.        , 65.19202405, 84.17244205, 97.75479528,\n        56.71860365, 64.63745044, 41.10960958, 80.21221852, 59.68249325,\n        80.08120878, 75.        ],\n       [74.63243263, 65.19202405,  0.        , 31.38470965, 80.41144197,\n         9.8488578 , 34.17601498, 46.04345773, 62.64183905, 29.52964612,\n        20.80865205, 11.18033989],\n       [54.67174773, 84.17244205, 31.38470965,  0.        , 56.82429058,\n        32.64965543, 24.18677324, 50.08991915, 43.13930922, 26.17250466,\n        12.        , 34.05877273],\n       [11.3137085 , 97.75479528, 80.41144197, 56.82429058,  0.        ,\n        75.23961722, 47.09564736, 57.7754273 , 19.23538406, 53.00943312,\n        67.62396025, 87.64131446],\n       [68.44705983, 56.71860365,  9.8488578 , 32.64965543, 75.23961722,\n         0.        , 28.16025568, 36.40054945, 56.71860365, 22.56102835,\n        24.69817807, 21.02379604],\n       [40.52159918, 64.63745044, 34.17601498, 24.18677324, 47.09564736,\n        28.16025568,  0.        , 26.68332813, 28.63564213,  6.32455532,\n        28.3019434 , 43.0464865 ],\n       [47.4341649 , 41.10960958, 46.04345773, 50.08991915, 57.7754273 ,\n        36.40054945, 26.68332813,  0.        , 39.44616585, 24.        ,\n        50.80354318, 57.14017851],\n       [12.08304597, 80.21221852, 62.64183905, 43.13930922, 19.23538406,\n        56.71860365, 28.63564213, 39.44616585,  0.        , 34.23448554,\n        52.43090692, 70.77428912],\n       [45.89117562, 59.68249325, 29.52964612, 26.17250466, 53.00943312,\n        22.56102835,  6.32455532, 24.        , 34.23448554,  0.        ,\n        27.51363298, 39.20459157],\n       [64.35060217, 80.08120878, 20.80865205, 12.        , 67.62396025,\n        24.69817807, 28.3019434 , 50.80354318, 52.43090692, 27.51363298,\n         0.        , 22.09072203],\n       [82.85529555, 75.        , 11.18033989, 34.05877273, 87.64131446,\n        21.02379604, 43.0464865 , 57.14017851, 70.77428912, 39.20459157,\n        22.09072203,  0.        ]])"
     },
     "metadata": {},
     "output_type": "execute_result",
     "execution_count": 8
    }
   ],
   "source": [
    "# 点坐标、距离矩阵\n",
    "coord_generator.coordinate\n",
    "coord_generator.distance_matrix"
   ],
   "metadata": {
    "collapsed": false,
    "pycharm": {
     "name": "#%%\n",
     "is_executing": false
    }
   }
  },
  {
   "cell_type": "code",
   "execution_count": null,
   "outputs": [],
   "source": [
    "\n"
   ],
   "metadata": {
    "collapsed": false,
    "pycharm": {
     "name": "#%%\n"
    }
   }
  }
 ],
 "metadata": {
  "language_info": {
   "codemirror_mode": {
    "name": "ipython",
    "version": 2
   },
   "file_extension": ".py",
   "mimetype": "text/x-python",
   "name": "python",
   "nbconvert_exporter": "python",
   "pygments_lexer": "ipython2",
   "version": "2.7.6"
  },
  "kernelspec": {
   "name": "python3",
   "language": "python",
   "display_name": "Python 3"
  },
  "pycharm": {
   "stem_cell": {
    "cell_type": "raw",
    "source": [],
    "metadata": {
     "collapsed": false
    }
   }
  }
 },
 "nbformat": 4,
 "nbformat_minor": 0
}