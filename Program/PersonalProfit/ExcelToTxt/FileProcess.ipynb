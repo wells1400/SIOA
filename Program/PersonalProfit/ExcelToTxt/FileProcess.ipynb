{
 "cells": [
  {
   "cell_type": "code",
   "execution_count": 2,
   "metadata": {
    "collapsed": true,
    "pycharm": {
     "is_executing": false
    }
   },
   "outputs": [],
   "source": [
    "import numpy as np\n",
    "import pandas as pd\n",
    "import os"
   ]
  },
  {
   "cell_type": "code",
   "execution_count": 29,
   "outputs": [],
   "source": [
    "# 输入数据目录获取文件路径和文件名\n",
    "def get_path(data_root=r'E:\\SIOA\\Program\\PersonalProfit\\ExcelToTxt\\SourceData'):\n",
    "    file_path = []\n",
    "    file_name = []\n",
    "    relative_path = os.listdir(data_root)\n",
    "    for path in relative_path:\n",
    "        file_path.append(data_root + '\\\\' + path)\n",
    "        file_name.append(path.split('.')[0])\n",
    "    return file_path,file_name\n",
    "\n",
    "# 处理一个文件（输入文件路径，文件名，output主目录），输出建立一个文件夹，对文件进行处理\n",
    "def file_process(file_path, file_name, output_root):\n",
    "    # 如果该输出目录下以file_name命名的目录存在，则清空里面的文件，\n",
    "    # 否则直接创建一个新的文件夹\n",
    "    if os.path.exists(output_root + '\\\\' + file_name):\n",
    "        tmp_list = [output_root + '\\\\' + file_name + '\\\\' + file for file in os.listdir(output_root + '\\\\' + file_name)]\n",
    "        for tmp_file in tmp_list:\n",
    "            os.remove(tmp_file)\n",
    "    else:\n",
    "        os.mkdir(output_root + '\\\\' + file_name)\n",
    "    data_pd = pd.read_excel(file_path)\n",
    "    data_pd.drop(data_pd.loc[data_pd['条件'].isnull()].index,axis=0,inplace=True)\n",
    "    unique_counts_list = np.unique(data_pd['个数'])\n",
    "    for index in range(len(unique_counts_list)):\n",
    "        selected_pd = data_pd.loc[data_pd['个数'] == unique_counts_list[index]]\n",
    "        data_list = list(selected_pd['条件'].astype(int))\n",
    "        with open(output_root + '\\\\' + file_name + '\\\\' + str(unique_counts_list[index]) + '.txt','w') as f:\n",
    "            for row in data_list:\n",
    "                f.write(str(row))\n",
    "                f.write('\\n')\n",
    "\n",
    "# 运行主程,输入数据目录，输出主目录\n",
    "def run_engine(data_root=r'E:\\SIOA\\Program\\PersonalProfit\\ExcelToTxt\\SourceData', \n",
    "               output_root=r'E:\\SIOA\\Program\\PersonalProfit\\ExcelToTxt\\OutputData'\n",
    "               ):\n",
    "    file_path_list,file_name_list = get_path(data_root=data_root)\n",
    "    for index in range(len(file_path_list)):\n",
    "        file_path = file_path_list[index]\n",
    "        file_name = file_name_list[index]\n",
    "        print(r'>>>处理%s>>>'%file_name)\n",
    "        file_process(file_path, file_name, output_root)\n",
    "    print(r'>>>处理完成！>>>')"
   ],
   "metadata": {
    "collapsed": false,
    "pycharm": {
     "name": "#%%\n",
     "is_executing": false
    }
   }
  },
  {
   "cell_type": "code",
   "execution_count": 30,
   "outputs": [
    {
     "name": "stdout",
     "text": [
      ">>>处理output01>>>\n>>>处理output02>>>\n",
      ">>>处理output03>>>\n>>>处理output04>>>\n>>>处理output05>>>\n",
      ">>>处理output06>>>\n>>>处理output07>>>\n>>>处理output08>>>\n",
      ">>>处理output09>>>\n>>>处理output10>>>\n",
      ">>>处理output11>>>\n>>>处理output12>>>\n",
      ">>>处理output13>>>\n>>>处理output14>>>\n",
      ">>>处理output15>>>\n>>>处理output16>>>\n",
      ">>>处理output17>>>\n>>>处理output18>>>\n",
      ">>>处理output19>>>\n>>>处理output20>>>\n>>>处理output21>>>\n",
      ">>>处理output22>>>\n>>>处理output23>>>\n>>>处理output24>>>\n",
      ">>>处理output25>>>\n>>>处理output26>>>\n>>>处理output27>>>\n",
      ">>>处理output28>>>\n>>>处理output29>>>\n",
      ">>>处理output30>>>\n>>>处理output31>>>\n",
      ">>>处理output32>>>\n>>>处理output33>>>\n",
      ">>>处理output34>>>\n>>>处理output35>>>\n",
      ">>>处理output36>>>\n>>>处理output37>>>\n>>>处理output38>>>",
      "\n",
      ">>>处理output39>>>\n>>>处理output40>>>\n>>>处理完成！>>>",
      "\n"
     ],
     "output_type": "stream"
    }
   ],
   "source": [
    "run_engine(data_root=r'E:\\SIOA\\Program\\PersonalProfit\\ExcelToTxt\\SourceData', \n",
    "           output_root=r'E:\\SIOA\\Program\\PersonalProfit\\ExcelToTxt\\OutputData')"
   ],
   "metadata": {
    "collapsed": false,
    "pycharm": {
     "name": "#%%\n",
     "is_executing": false
    }
   }
  },
  {
   "cell_type": "code",
   "execution_count": 8,
   "outputs": [
    {
     "data": {
      "text/plain": "['E:\\\\SIOA\\\\Program\\\\PersonalProfit\\\\ExcelToTxt\\\\SourceData\\\\output01.xlsx',\n 'E:\\\\SIOA\\\\Program\\\\PersonalProfit\\\\ExcelToTxt\\\\SourceData\\\\output02.xlsx',\n 'E:\\\\SIOA\\\\Program\\\\PersonalProfit\\\\ExcelToTxt\\\\SourceData\\\\output03.xlsx',\n 'E:\\\\SIOA\\\\Program\\\\PersonalProfit\\\\ExcelToTxt\\\\SourceData\\\\output04.xlsx',\n 'E:\\\\SIOA\\\\Program\\\\PersonalProfit\\\\ExcelToTxt\\\\SourceData\\\\output05.xlsx',\n 'E:\\\\SIOA\\\\Program\\\\PersonalProfit\\\\ExcelToTxt\\\\SourceData\\\\output06.xlsx',\n 'E:\\\\SIOA\\\\Program\\\\PersonalProfit\\\\ExcelToTxt\\\\SourceData\\\\output07.xlsx',\n 'E:\\\\SIOA\\\\Program\\\\PersonalProfit\\\\ExcelToTxt\\\\SourceData\\\\output08.xlsx',\n 'E:\\\\SIOA\\\\Program\\\\PersonalProfit\\\\ExcelToTxt\\\\SourceData\\\\output09.xlsx',\n 'E:\\\\SIOA\\\\Program\\\\PersonalProfit\\\\ExcelToTxt\\\\SourceData\\\\output10.xlsx',\n 'E:\\\\SIOA\\\\Program\\\\PersonalProfit\\\\ExcelToTxt\\\\SourceData\\\\output11.xlsx',\n 'E:\\\\SIOA\\\\Program\\\\PersonalProfit\\\\ExcelToTxt\\\\SourceData\\\\output12.xlsx',\n 'E:\\\\SIOA\\\\Program\\\\PersonalProfit\\\\ExcelToTxt\\\\SourceData\\\\output13.xlsx',\n 'E:\\\\SIOA\\\\Program\\\\PersonalProfit\\\\ExcelToTxt\\\\SourceData\\\\output14.xlsx',\n 'E:\\\\SIOA\\\\Program\\\\PersonalProfit\\\\ExcelToTxt\\\\SourceData\\\\output15.xlsx',\n 'E:\\\\SIOA\\\\Program\\\\PersonalProfit\\\\ExcelToTxt\\\\SourceData\\\\output16.xlsx',\n 'E:\\\\SIOA\\\\Program\\\\PersonalProfit\\\\ExcelToTxt\\\\SourceData\\\\output17.xlsx',\n 'E:\\\\SIOA\\\\Program\\\\PersonalProfit\\\\ExcelToTxt\\\\SourceData\\\\output18.xlsx',\n 'E:\\\\SIOA\\\\Program\\\\PersonalProfit\\\\ExcelToTxt\\\\SourceData\\\\output19.xlsx',\n 'E:\\\\SIOA\\\\Program\\\\PersonalProfit\\\\ExcelToTxt\\\\SourceData\\\\output20.xlsx',\n 'E:\\\\SIOA\\\\Program\\\\PersonalProfit\\\\ExcelToTxt\\\\SourceData\\\\output21.xlsx',\n 'E:\\\\SIOA\\\\Program\\\\PersonalProfit\\\\ExcelToTxt\\\\SourceData\\\\output22.xlsx',\n 'E:\\\\SIOA\\\\Program\\\\PersonalProfit\\\\ExcelToTxt\\\\SourceData\\\\output23.xlsx',\n 'E:\\\\SIOA\\\\Program\\\\PersonalProfit\\\\ExcelToTxt\\\\SourceData\\\\output24.xlsx',\n 'E:\\\\SIOA\\\\Program\\\\PersonalProfit\\\\ExcelToTxt\\\\SourceData\\\\output25.xlsx',\n 'E:\\\\SIOA\\\\Program\\\\PersonalProfit\\\\ExcelToTxt\\\\SourceData\\\\output26.xlsx',\n 'E:\\\\SIOA\\\\Program\\\\PersonalProfit\\\\ExcelToTxt\\\\SourceData\\\\output27.xlsx',\n 'E:\\\\SIOA\\\\Program\\\\PersonalProfit\\\\ExcelToTxt\\\\SourceData\\\\output28.xlsx',\n 'E:\\\\SIOA\\\\Program\\\\PersonalProfit\\\\ExcelToTxt\\\\SourceData\\\\output29.xlsx',\n 'E:\\\\SIOA\\\\Program\\\\PersonalProfit\\\\ExcelToTxt\\\\SourceData\\\\output30.xlsx',\n 'E:\\\\SIOA\\\\Program\\\\PersonalProfit\\\\ExcelToTxt\\\\SourceData\\\\output31.xlsx',\n 'E:\\\\SIOA\\\\Program\\\\PersonalProfit\\\\ExcelToTxt\\\\SourceData\\\\output32.xlsx',\n 'E:\\\\SIOA\\\\Program\\\\PersonalProfit\\\\ExcelToTxt\\\\SourceData\\\\output33.xlsx',\n 'E:\\\\SIOA\\\\Program\\\\PersonalProfit\\\\ExcelToTxt\\\\SourceData\\\\output34.xlsx',\n 'E:\\\\SIOA\\\\Program\\\\PersonalProfit\\\\ExcelToTxt\\\\SourceData\\\\output35.xlsx',\n 'E:\\\\SIOA\\\\Program\\\\PersonalProfit\\\\ExcelToTxt\\\\SourceData\\\\output36.xlsx',\n 'E:\\\\SIOA\\\\Program\\\\PersonalProfit\\\\ExcelToTxt\\\\SourceData\\\\output37.xlsx',\n 'E:\\\\SIOA\\\\Program\\\\PersonalProfit\\\\ExcelToTxt\\\\SourceData\\\\output38.xlsx',\n 'E:\\\\SIOA\\\\Program\\\\PersonalProfit\\\\ExcelToTxt\\\\SourceData\\\\output39.xlsx',\n 'E:\\\\SIOA\\\\Program\\\\PersonalProfit\\\\ExcelToTxt\\\\SourceData\\\\output40.xlsx']"
     },
     "metadata": {},
     "output_type": "execute_result",
     "execution_count": 8
    }
   ],
   "source": [
    "\n",
    "\n"
   ],
   "metadata": {
    "collapsed": false,
    "pycharm": {
     "name": "#%%\n",
     "is_executing": false
    }
   }
  }
 ],
 "metadata": {
  "language_info": {
   "codemirror_mode": {
    "name": "ipython",
    "version": 2
   },
   "file_extension": ".py",
   "mimetype": "text/x-python",
   "name": "python",
   "nbconvert_exporter": "python",
   "pygments_lexer": "ipython2",
   "version": "2.7.6"
  },
  "kernelspec": {
   "name": "python3",
   "language": "python",
   "display_name": "Python 3"
  },
  "pycharm": {
   "stem_cell": {
    "cell_type": "raw",
    "source": [],
    "metadata": {
     "collapsed": false
    }
   }
  }
 },
 "nbformat": 4,
 "nbformat_minor": 0
}