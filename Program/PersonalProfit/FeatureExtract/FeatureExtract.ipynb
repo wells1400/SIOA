{
 "cells": [
  {
   "cell_type": "code",
   "execution_count": 2,
   "outputs": [],
   "source": [
    "from tsfresh.examples.robot_execution_failures import download_robot_execution_failures, load_robot_execution_failures"
   ],
   "metadata": {
    "collapsed": false,
    "pycharm": {
     "name": "#%%\n",
     "is_executing": false
    }
   }
  },
  {
   "cell_type": "code",
   "execution_count": 3,
   "outputs": [],
   "source": [
    "download_robot_execution_failures()\n",
    "timeseries, y = load_robot_execution_failures()"
   ],
   "metadata": {
    "collapsed": false,
    "pycharm": {
     "name": "#%%\n",
     "is_executing": false
    }
   }
  },
  {
   "cell_type": "code",
   "execution_count": 4,
   "outputs": [
    {
     "name": "stderr",
     "text": [
      "\rFeature Extraction:   0%|          | 0/10 [00:00<?, ?it/s]",
      "\rFeature Extraction:  10%|█         | 1/10 [00:07<01:06,  7.36s/it]",
      "\rFeature Extraction:  30%|███       | 3/10 [00:13<00:42,  6.00s/it]",
      "\rFeature Extraction:  40%|████      | 4/10 [00:13<00:25,  4.26s/it]",
      "\rFeature Extraction:  50%|█████     | 5/10 [00:20<00:26,  5.28s/it]",
      "\rFeature Extraction:  60%|██████    | 6/10 [00:21<00:15,  3.89s/it]",
      "\rFeature Extraction:  70%|███████   | 7/10 [00:27<00:13,  4.44s/it]",
      "\rFeature Extraction:  80%|████████  | 8/10 [00:27<00:06,  3.24s/it]",
      "\rFeature Extraction:  90%|█████████ | 9/10 [00:33<00:03,  3.88s/it]",
      "\rFeature Extraction: 100%|██████████| 10/10 [00:33<00:00,  2.76s/it]",
      "\n"
     ],
     "output_type": "stream"
    }
   ],
   "source": [
    "from tsfresh import extract_features\n",
    "extraced_features = extract_features(timeseries, column_id='id', column_sort='time')\n",
    "extraced_features.head()\n",
    "extraced_features.to_csv(r'E:\\SIOA\\Program\\PersonalProfit\\FeatureExtract\\extraced_features.csv',index=None)"
   ],
   "metadata": {
    "collapsed": false,
    "pycharm": {
     "name": "#%%\n",
     "is_executing": false
    }
   }
  },
  {
   "cell_type": "code",
   "execution_count": 5,
   "outputs": [
    {
     "name": "stderr",
     "text": [
      "WARNING:tsfresh.utilities.dataframe_functions:The columns ['F_x__agg_linear_trend__f_agg_\"max\"__chunk_len_50__attr_\"intercept\"'\n 'F_x__agg_linear_trend__f_agg_\"max\"__chunk_len_50__attr_\"rvalue\"'\n 'F_x__agg_linear_trend__f_agg_\"max\"__chunk_len_50__attr_\"slope\"' ...\n 'T_z__fft_coefficient__coeff_9__attr_\"imag\"'\n 'T_z__fft_coefficient__coeff_9__attr_\"real\"'\n 'T_z__spkt_welch_density__coeff_8'] did not have any finite values. Filling with zeros.\n",
      "WARNING:tsfresh.feature_selection.relevance:Infered classification as machine learning task\n"
     ],
     "output_type": "stream"
    }
   ],
   "source": [
    "from tsfresh import select_features\n",
    "from tsfresh.utilities.dataframe_functions import impute\n",
    "impute(extraced_features)\n",
    "filtered_features = select_features(extraced_features, y)\n",
    "filtered_features.head()\n",
    "filtered_features.to_csv(r'E:\\SIOA\\Program\\PersonalProfit\\FeatureExtract\\filtered_features.csv',index=None)"
   ],
   "metadata": {
    "collapsed": false,
    "pycharm": {
     "name": "#%%\n",
     "is_executing": false
    }
   }
  },
  {
   "cell_type": "code",
   "execution_count": 6,
   "outputs": [
    {
     "name": "stderr",
     "text": [
      "\rFeature Extraction:   0%|          | 0/10 [00:00<?, ?it/s]",
      "\rFeature Extraction:  10%|█         | 1/10 [00:06<01:01,  6.83s/it]",
      "\rFeature Extraction:  30%|███       | 3/10 [00:13<00:40,  5.72s/it]",
      "\rFeature Extraction:  40%|████      | 4/10 [00:13<00:24,  4.16s/it]",
      "\rFeature Extraction:  50%|█████     | 5/10 [00:22<00:28,  5.69s/it]",
      "\rFeature Extraction:  60%|██████    | 6/10 [00:23<00:16,  4.08s/it]",
      "\rFeature Extraction:  70%|███████   | 7/10 [00:31<00:16,  5.36s/it]",
      "\rFeature Extraction:  80%|████████  | 8/10 [00:32<00:07,  3.93s/it]",
      "\rFeature Extraction:  90%|█████████ | 9/10 [00:40<00:05,  5.25s/it]",
      "\rFeature Extraction: 100%|██████████| 10/10 [00:40<00:00,  3.71s/it]",
      "\n",
      "WARNING:tsfresh.utilities.dataframe_functions:The columns ['F_x__agg_linear_trend__f_agg_\"max\"__chunk_len_50__attr_\"intercept\"'\n 'F_x__agg_linear_trend__f_agg_\"max\"__chunk_len_50__attr_\"rvalue\"'\n 'F_x__agg_linear_trend__f_agg_\"max\"__chunk_len_50__attr_\"slope\"' ...\n 'T_z__fft_coefficient__coeff_9__attr_\"imag\"'\n 'T_z__fft_coefficient__coeff_9__attr_\"real\"'\n 'T_z__spkt_welch_density__coeff_8'] did not have any finite values. Filling with zeros.\n",
      "WARNING:tsfresh.feature_selection.relevance:Infered classification as machine learning task\n"
     ],
     "output_type": "stream"
    }
   ],
   "source": [
    "from tsfresh import extract_relevant_features\n",
    "directed_features = extract_relevant_features(timeseries, y, column_id='id', column_sort='time')\n",
    "directed_features.to_csv(r'E:\\SIOA\\Program\\PersonalProfit\\FeatureExtract\\directed_features.csv',index=None)\n"
   ],
   "metadata": {
    "collapsed": false,
    "pycharm": {
     "name": "#%%\n",
     "is_executing": false
    }
   }
  },
  {
   "cell_type": "code",
   "execution_count": 15,
   "outputs": [],
   "source": [],
   "metadata": {
    "collapsed": false,
    "pycharm": {
     "name": "#%%\n",
     "is_executing": false
    }
   }
  },
  {
   "cell_type": "code",
   "execution_count": null,
   "outputs": [],
   "source": [
    "\n"
   ],
   "metadata": {
    "collapsed": false,
    "pycharm": {
     "name": "#%%\n"
    }
   }
  }
 ],
 "metadata": {
  "language_info": {
   "codemirror_mode": {
    "name": "ipython",
    "version": 2
   },
   "file_extension": ".py",
   "mimetype": "text/x-python",
   "name": "python",
   "nbconvert_exporter": "python",
   "pygments_lexer": "ipython2",
   "version": "2.7.6"
  },
  "kernelspec": {
   "name": "python3",
   "language": "python",
   "display_name": "Python 3"
  },
  "pycharm": {
   "stem_cell": {
    "cell_type": "raw",
    "source": [],
    "metadata": {
     "collapsed": false
    }
   }
  }
 },
 "nbformat": 4,
 "nbformat_minor": 0
}