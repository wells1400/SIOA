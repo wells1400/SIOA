{
 "cells": [
  {
   "cell_type": "code",
   "execution_count": 4,
   "metadata": {
    "collapsed": true,
    "pycharm": {
     "is_executing": false
    }
   },
   "outputs": [],
   "source": [
    "import pandas as pd\n"
   ]
  },
  {
   "cell_type": "code",
   "execution_count": 5,
   "outputs": [
    {
     "name": "stderr",
     "text": [
      "C:\\Anaconda\\lib\\site-packages\\ipykernel_launcher.py:1: ParserWarning: Falling back to the 'python' engine because the 'c' engine does not support regex separators (separators > 1 char and different from '\\s+' are interpreted as regex); you can avoid this warning by specifying engine='python'.\n  \"\"\"Entry point for launching an IPython kernel.\n"
     ],
     "output_type": "stream"
    }
   ],
   "source": [
    "normal_pd = pd.read_csv(r'H:\\Other Program\\Program\\PersonalProfit\\Ddos Detector\\DataSet\\Add_DoS_attack_dataset1.csv',delimiter=r'\\t')"
   ],
   "metadata": {
    "collapsed": false,
    "pycharm": {
     "name": "#%%\n",
     "is_executing": false
    }
   }
  },
  {
   "cell_type": "code",
   "execution_count": 6,
   "outputs": [
    {
     "data": {
      "text/plain": "   DLC  ID  TimeStamp                                             Value\n0    8   0   0.000000  ['00', '00', '00', '00', '00', '00', '00', '00']\n1    8   0   0.000136  ['00', '00', '00', '00', '00', '00', '00', '00']\n2    8   0   0.000272  ['00', '00', '00', '00', '00', '00', '00', '00']\n3    8   0   0.000408  ['00', '00', '00', '00', '00', '00', '00', '00']\n4    8   0   0.000544  ['00', '00', '00', '00', '00', '00', '00', '00']",
      "text/html": "<div>\n<style scoped>\n    .dataframe tbody tr th:only-of-type {\n        vertical-align: middle;\n    }\n\n    .dataframe tbody tr th {\n        vertical-align: top;\n    }\n\n    .dataframe thead th {\n        text-align: right;\n    }\n</style>\n<table border=\"1\" class=\"dataframe\">\n  <thead>\n    <tr style=\"text-align: right;\">\n      <th></th>\n      <th>DLC</th>\n      <th>ID</th>\n      <th>TimeStamp</th>\n      <th>Value</th>\n    </tr>\n  </thead>\n  <tbody>\n    <tr>\n      <th>0</th>\n      <td>8</td>\n      <td>0</td>\n      <td>0.000000</td>\n      <td>['00', '00', '00', '00', '00', '00', '00', '00']</td>\n    </tr>\n    <tr>\n      <th>1</th>\n      <td>8</td>\n      <td>0</td>\n      <td>0.000136</td>\n      <td>['00', '00', '00', '00', '00', '00', '00', '00']</td>\n    </tr>\n    <tr>\n      <th>2</th>\n      <td>8</td>\n      <td>0</td>\n      <td>0.000272</td>\n      <td>['00', '00', '00', '00', '00', '00', '00', '00']</td>\n    </tr>\n    <tr>\n      <th>3</th>\n      <td>8</td>\n      <td>0</td>\n      <td>0.000408</td>\n      <td>['00', '00', '00', '00', '00', '00', '00', '00']</td>\n    </tr>\n    <tr>\n      <th>4</th>\n      <td>8</td>\n      <td>0</td>\n      <td>0.000544</td>\n      <td>['00', '00', '00', '00', '00', '00', '00', '00']</td>\n    </tr>\n  </tbody>\n</table>\n</div>"
     },
     "metadata": {},
     "output_type": "execute_result",
     "execution_count": 6
    }
   ],
   "source": [
    "normal_pd.head()"
   ],
   "metadata": {
    "collapsed": false,
    "pycharm": {
     "name": "#%%\n",
     "is_executing": false
    }
   }
  },
  {
   "cell_type": "code",
   "execution_count": 7,
   "outputs": [],
   "source": [
    "test_pd = normal_pd.loc[:5000,['TimeStamp','ID']]\n",
    "test_pd.to_csv(r'H:\\Other Program\\Program\\PersonalProfit\\Ddos Detector\\DataSet\\dos_test.csv',index=None)"
   ],
   "metadata": {
    "collapsed": false,
    "pycharm": {
     "name": "#%%\n",
     "is_executing": false
    }
   }
  },
  {
   "cell_type": "code",
   "execution_count": 6,
   "outputs": [],
   "source": [
    "def test_func(a):\n",
    "    if a == 1:\n",
    "        return 1\n",
    "    return 2,'a'\n",
    "val = test_func(2)"
   ],
   "metadata": {
    "collapsed": false,
    "pycharm": {
     "name": "#%%\n",
     "is_executing": false
    }
   }
  },
  {
   "cell_type": "code",
   "execution_count": 7,
   "outputs": [
    {
     "data": {
      "text/plain": "2"
     },
     "metadata": {},
     "output_type": "execute_result",
     "execution_count": 7
    }
   ],
   "source": [
    "len(val)\n"
   ],
   "metadata": {
    "collapsed": false,
    "pycharm": {
     "name": "#%%\n",
     "is_executing": false
    }
   }
  }
 ],
 "metadata": {
  "language_info": {
   "codemirror_mode": {
    "name": "ipython",
    "version": 2
   },
   "file_extension": ".py",
   "mimetype": "text/x-python",
   "name": "python",
   "nbconvert_exporter": "python",
   "pygments_lexer": "ipython2",
   "version": "2.7.6"
  },
  "kernelspec": {
   "name": "python3",
   "language": "python",
   "display_name": "Python 3"
  },
  "pycharm": {
   "stem_cell": {
    "cell_type": "raw",
    "source": [],
    "metadata": {
     "collapsed": false
    }
   }
  }
 },
 "nbformat": 4,
 "nbformat_minor": 0
}