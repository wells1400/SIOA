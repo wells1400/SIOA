{
 "cells": [
  {
   "cell_type": "code",
   "execution_count": 15,
   "metadata": {
    "collapsed": true,
    "pycharm": {
     "is_executing": false
    }
   },
   "outputs": [
    {
     "traceback": [
      "\u001b[1;31m---------------------------------------------------------------------------\u001b[0m",
      "\u001b[1;31mModuleNotFoundError\u001b[0m                       Traceback (most recent call last)",
      "\u001b[1;32m<ipython-input-15-62bba75210a8>\u001b[0m in \u001b[0;36m<module>\u001b[1;34m\u001b[0m\n\u001b[0;32m      3\u001b[0m \u001b[1;32mimport\u001b[0m \u001b[0mmatplotlib\u001b[0m\u001b[1;33m.\u001b[0m\u001b[0mpyplot\u001b[0m \u001b[1;32mas\u001b[0m \u001b[0mplt\u001b[0m\u001b[1;33m\u001b[0m\u001b[1;33m\u001b[0m\u001b[0m\n\u001b[0;32m      4\u001b[0m \u001b[1;32mimport\u001b[0m \u001b[0mmath\u001b[0m\u001b[1;33m\u001b[0m\u001b[1;33m\u001b[0m\u001b[0m\n\u001b[1;32m----> 5\u001b[1;33m \u001b[1;32mimport\u001b[0m \u001b[0msklearn\u001b[0m\u001b[1;33m.\u001b[0m\u001b[0mtree\u001b[0m\u001b[1;33m.\u001b[0m\u001b[0mDecisionTreeClassifier\u001b[0m\u001b[1;33m\u001b[0m\u001b[1;33m\u001b[0m\u001b[0m\n\u001b[0m",
      "\u001b[1;31mModuleNotFoundError\u001b[0m: No module named 'sklearn.tree.DecisionTreeClassifier'"
     ],
     "ename": "ModuleNotFoundError",
     "evalue": "No module named 'sklearn.tree.DecisionTreeClassifier'",
     "output_type": "error"
    }
   ],
   "source": [
    "import math\n",
    "import numpy as np\n",
    "import pandas as pd\n",
    "import matplotlib.pyplot as plt"
   ]
  },
  {
   "cell_type": "code",
   "execution_count": 38,
   "outputs": [],
   "source": [
    "class DosAttackDetector:\n",
    "    def __init__(self, normal_dataset_filepath, dos_dataset_filepath,\n",
    "                 window_size=25, decision_sensitivity=0.5):\n",
    "        # 正常数据集和Dos攻击文件路径\n",
    "        self.normal_dataset_filepath = normal_dataset_filepath\n",
    "        self.dos_dataset_filepath = dos_dataset_filepath\n",
    "        # 窗口长度\n",
    "        self.window_size = window_size\n",
    "        # 决策敏感度\n",
    "        self.decision_sensitivity = decision_sensitivity\n",
    "        ##### 其他计算精准度指标的过程中需要用到的中间数据####\n",
    "        # 正常数据集各时间窗口的 ID 列表[]\n",
    "        self.normal_window_ids = []\n",
    "        # 正常数据集各时间窗口的信息熵列表[]\n",
    "        self.normal_window_entropy = []\n",
    "        # 正常数据集各时间窗口对应的时间戳列表\n",
    "        self.normal_window_timestamps = []\n",
    "        # 正常数据集计算出来的平均信息熵\n",
    "        self.normal_window_entropy_mean = 0\n",
    "        # 正常数据集计算出来的信息熵标准差\n",
    "        self.normal_window_entropy_std = 0\n",
    "        # 测试数据集各时间窗口的 ID 列表[]\n",
    "        self.dos_window_ids = []\n",
    "        # 与测试数据集各时间窗口的 ID 列表[]相对应的信息熵列表[]\n",
    "        self.dos_window_entropy = []\n",
    "        # 与测试数据集各时间窗口的 ID 列表[]相对应的时间戳列表[]\n",
    "        self.dos_window_timestamps = []\n",
    "        # 与测试数据集各时间窗口的 ID 列表[]相对应的真实标签列表[]\n",
    "        self.dos_window_attack_true_labels = []\n",
    "        # 与测试数据集各时间窗口的 ID 列表[]相对应的算法判定标签列表[]\n",
    "        self.dos_window_attack_Ag_labelss = []\n",
    "        # 要输出的指标：预测准确率\n",
    "        self.precision = -1\n",
    "        # 要输出的指标：假阳性率\n",
    "        self.fp_rate = -1\n",
    "        # 所有攻击检测出来的攻击开始时间和攻击检测时间列表\n",
    "        self.dos_start_timestamp = []\n",
    "        self.dos_detected_timestamp = []\n",
    "        # 要输出的指标：响应时间\n",
    "        self.response_time = -1\n",
    "    \n",
    "    # 读取正常数据集文件和dos数据集文件，返回ID和TimeStamp列\n",
    "    def file_reader(self, file_path):\n",
    "        res_pd = pd.read_csv(file_path, delimiter=r'\\t')\n",
    "        timestamp = list(res_pd['TimeStamp'])\n",
    "        IDS = list(res_pd['ID'])\n",
    "        return IDS,timestamp\n",
    "\n",
    "    # 传入ID和TimeStamp列和时间窗长度，输出窗口ids列表和窗口时间戳列表\n",
    "    def generate_windows_ids_timestamp(self, ids, timestamps):\n",
    "        res_ids_list = []\n",
    "        res_timestamps_list = []\n",
    "        for index in range(0, len(ids)-self.window_size):\n",
    "            res_ids_list.append(ids[index:index+self.window_size])\n",
    "            res_timestamps_list.append((timestamps[index+self.window_size-1]))\n",
    "        return res_ids_list, res_timestamps_list\n",
    "    \n",
    "    # 填充测试数据各时间窗口的真实标签\n",
    "    def genereate_window_label(self, ids_list):\n",
    "        res_label_list = []\n",
    "        for window_ids in ids_list:\n",
    "            if 0 in window_ids:\n",
    "                res_label_list.append(1)\n",
    "                continue\n",
    "            res_label_list.append(0)\n",
    "        return res_label_list\n",
    "    \n",
    "    # 填充真实数据集normal_window_ids，normal_window_timestamps\n",
    "    # 填充 Dos数据集dos_window_ids，dos_window_timestamps，dos_window_attack_true_labels\n",
    "    def detector_init(self):\n",
    "        # 真实数据集\n",
    "        ids,timestamp = self.file_reader(self.normal_dataset_filepath)\n",
    "        ids_list,timestamps_list = self.generate_windows_ids_timestamp(ids, timestamp)\n",
    "        self.normal_window_ids = ids_list\n",
    "        self.normal_window_timestamps = timestamps_list\n",
    "        # 测试数据集\n",
    "        ids,timestamp = self.file_reader(self.dos_dataset_filepath)\n",
    "        ids_list,timestamps_list = self.generate_windows_ids_timestamp(ids, timestamp)\n",
    "        self.dos_window_ids = ids_list\n",
    "        self.dos_window_timestamps = timestamps_list\n",
    "        # 填充测试数据各时间窗口的真实标签\n",
    "        self.dos_window_attack_true_labels = self.genereate_window_label(self.dos_window_ids)\n",
    "        \n",
    "    # 输入窗口ids列表,计算各窗口的信息熵\n",
    "    def calculate_entropy(self, ids_list):\n",
    "        var_array,count_array =  np.unique(ids_list,return_counts=True)\n",
    "        total_count = len(ids_list)\n",
    "        pcount_array = count_array/total_count\n",
    "        return -np.sum(pcount_array*np.log(pcount_array))\n",
    "    \n",
    "    # 输入一个窗口的信息熵，判断这个窗口是否属于Dos攻击块,是返回1，否则返回0\n",
    "    def __judge_if_dos(self, window_entropy):\n",
    "        if window_entropy <= self.normal_window_entropy_mean - self.decision_sensitivity*self.normal_window_entropy_std:\n",
    "            return 1\n",
    "        if window_entropy <= self.normal_window_entropy_mean + self.decision_sensitivity*self.normal_window_entropy_std:\n",
    "            return 1\n",
    "        return 0\n",
    "    \n",
    "    # 计算正常数据集窗口和测试数据集窗口信息熵,正常数据集窗口信息熵均值和标准差\n",
    "    def __calculate_window_entropy(self):\n",
    "        # 正常数据集窗口\n",
    "        self.normal_window_entropy = [self.calculate_entropy(self.normal_window_ids[index]) \n",
    "                                      for index in range(len(self.normal_window_ids))]\n",
    "        self.normal_window_entropy_mean = np.mean(self.normal_window_entropy)\n",
    "        self.normal_window_entropy_std = np.std(self.normal_window_entropy)\n",
    "        \n",
    "        # 测试数据集窗口\n",
    "        self.dos_window_entropy = [self.calculate_entropy(self.dos_window_ids[index]) \n",
    "                                      for index in range(len(self.dos_window_ids))]\n",
    "        \n",
    "    # 判断测试数据集各窗口是否属于Dos攻击块\n",
    "    def __judge_dos_window_label(self):\n",
    "        self.dos_window_attack_Ag_labels = [self.__judge_if_dos(self.dos_window_entropy[index]) \n",
    "                                            for index in range(len(self.dos_window_entropy))]\n",
    "    \n",
    "    # 计算指标：预测准确率 以及 假阳性率\n",
    "    def __calculate_precision_fp_rate(self):\n",
    "        \n",
    "        pass\n",
    "    \n",
    "    # DosAttackDetector运行主程，返回三个指标：预测准确率、假阳性率以及平均响应时间\n",
    "    def dos_engine(self):\n",
    "        # 初始化\n",
    "        self.detector_init()\n",
    "        # 计算正常数据集窗口和测试数据集窗口信息熵,正常数据集窗口信息熵均值和标准差\n",
    "        self.__calculate_window_entropy()\n",
    "        # 判断测试数据集各窗口是否属于Dos攻击块\n",
    "        self.__judge_dos_window_label()\n",
    "        # 计算指标：预测准确率 以及 假阳性率\n",
    "        pass\n",
    "    \n",
    "        "
   ],
   "metadata": {
    "collapsed": false,
    "pycharm": {
     "name": "#%%\n",
     "is_executing": false
    }
   }
  },
  {
   "cell_type": "code",
   "execution_count": 39,
   "outputs": [],
   "source": [
    "# 文件路径\n",
    "normal_dataset_filepath = r'E:\\Other Program\\PersonalProfit\\Ddos Detector\\DataSet\\DoS_attack_dataset_no_zero.csv'\n",
    "dos_dataset_filepath = r'E:\\Other Program\\PersonalProfit\\Ddos Detector\\DataSet\\Add_DoS_attack_dataset1.csv'"
   ],
   "metadata": {
    "collapsed": false,
    "pycharm": {
     "name": "#%%\n",
     "is_executing": false
    }
   }
  },
  {
   "cell_type": "code",
   "execution_count": 40,
   "outputs": [
    {
     "name": "stderr",
     "text": [
      "A:\\Anaconda\\lib\\site-packages\\ipykernel_launcher.py:44: ParserWarning: Falling back to the 'python' engine because the 'c' engine does not support regex separators (separators > 1 char and different from '\\s+' are interpreted as regex); you can avoid this warning by specifying engine='python'.\n"
     ],
     "output_type": "stream"
    }
   ],
   "source": [
    "dos_detector = DosAttackDetector(normal_dataset_filepath=normal_dataset_filepath,\n",
    "                                 dos_dataset_filepath=dos_dataset_filepath)\n",
    "dos_detector.detector_init()"
   ],
   "metadata": {
    "collapsed": false,
    "pycharm": {
     "name": "#%%\n",
     "is_executing": false
    }
   }
  },
  {
   "cell_type": "code",
   "execution_count": null,
   "outputs": [
    {
     "name": "stdout",
     "text": [
      "[0.16666667 0.25       0.08333333 0.08333333 0.08333333 0.16666667\n 0.08333333 0.08333333]\n[-1.79175947 -1.38629436 -2.48490665 -2.48490665 -2.48490665 -1.79175947\n -2.48490665 -2.48490665]\n"
     ],
     "output_type": "stream"
    },
    {
     "data": {
      "text/plain": "1.9792045174343245"
     },
     "metadata": {},
     "output_type": "execute_result",
     "execution_count": 45
    }
   ],
   "source": [
    "# test = [1,2,2,1,3,4,4,4,5,6,6]\n",
    "#test = [1,2,2,1]\n",
    "test = [1,1,2,46,76,4,3,2,2,6,8,8]\n",
    "dos_detector.calculate_entropy(test)"
   ],
   "metadata": {
    "collapsed": false,
    "pycharm": {
     "name": "#%%\n",
     "is_executing": true
    }
   }
  },
  {
   "cell_type": "code",
   "execution_count": 43,
   "outputs": [
    {
     "data": {
      "text/plain": "0.6931471805599453"
     },
     "metadata": {},
     "output_type": "execute_result",
     "execution_count": 43
    }
   ],
   "source": [],
   "metadata": {
    "collapsed": false,
    "pycharm": {
     "name": "#%%\n",
     "is_executing": false
    }
   }
  }
 ],
 "metadata": {
  "language_info": {
   "codemirror_mode": {
    "name": "ipython",
    "version": 2
   },
   "file_extension": ".py",
   "mimetype": "text/x-python",
   "name": "python",
   "nbconvert_exporter": "python",
   "pygments_lexer": "ipython2",
   "version": "2.7.6"
  },
  "kernelspec": {
   "name": "python3",
   "language": "python",
   "display_name": "Python 3"
  },
  "pycharm": {
   "stem_cell": {
    "cell_type": "raw",
    "source": [],
    "metadata": {
     "collapsed": false
    }
   }
  }
 },
 "nbformat": 4,
 "nbformat_minor": 0
}