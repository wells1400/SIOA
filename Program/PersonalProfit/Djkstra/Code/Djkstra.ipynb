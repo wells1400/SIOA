{
 "cells": [
  {
   "cell_type": "code",
   "execution_count": 1,
   "metadata": {
    "collapsed": true,
    "pycharm": {
     "is_executing": false
    }
   },
   "outputs": [],
   "source": [
    "import networkx\n",
    "import pylab\n",
    "import numpy as np\n",
    "from sys import maxsize"
   ]
  },
  {
   "cell_type": "code",
   "execution_count": 37,
   "outputs": [],
   "source": [
    "class Graph:\n",
    "    def __init__(self, with_default=0, with_arrow=False):\n",
    "        self.with_arrow = with_arrow # 生成图是有向或者无向 fasle为无向，true是有向\n",
    "        self.graph = self._generate_default_graph() if with_default == 1 else self.graph_input()\n",
    "        self.adj_dict = self.__generate_adj_dict() # 生成邻接表\n",
    "        self.node_weight = {}  # 节点权重\n",
    "        \n",
    "    # 生成默认赋权图\n",
    "    def _generate_default_graph(self):\n",
    "        graph = networkx.Graph()\n",
    "        if self.with_arrow:\n",
    "            graph = networkx.DiGraph()\n",
    "        graph.add_edges_from([\n",
    "            ('v1', 'v2', {'weight': 2}), ('v1', 'v4', {'weight': 1}),\n",
    "            ('v2', 'v4', {'weight': 3}), ('v2', 'v5', {'weight': 10}),\n",
    "            ('v3', 'v1', {'weight': 4}), ('v3', 'v6', {'weight': 5}),\n",
    "            ('v4', 'v3', {'weight': 2}), ('v4', 'v5', {'weight': 2}),\n",
    "            ('v4', 'v6', {'weight': 8}), ('v4', 'v7', {'weight': 4}),\n",
    "            ('v5', 'v7', {'weight': 6}), ('v7', 'v6', {'weight': 1}),\n",
    "        ])\n",
    "        return graph\n",
    "    \n",
    "    # 读取文件生成图\n",
    "    def __generate_graph\n",
    "\n",
    "    # 可视化有权图\n",
    "    def graph_plot(self):\n",
    "        graph = self.graph\n",
    "        edge_labels = dict([((u, v,), d['weight'])\n",
    "                            for u, v, d in graph.edges(data=True)])\n",
    "        pos = networkx.spring_layout(graph)\n",
    "        networkx.draw_networkx_edges(graph, pos, arrows=True)\n",
    "        networkx.draw_networkx_labels(graph, pos)\n",
    "        networkx.draw_networkx_edge_labels(graph, pos, edge_labels=edge_labels)\n",
    "        networkx.draw(graph, pos, node_size=1500, node_color=None, alpha=0.8, arrows=True)\n",
    "        pylab.show()\n",
    "\n",
    "    # 输入图\n",
    "    def graph_input(self):\n",
    "        graph = networkx.Graph()\n",
    "        if self.with_arrow:\n",
    "            graph = networkx.DiGraph()\n",
    "        while True:\n",
    "            input_edge = input(\"请输入两个节点的名称和这条边的权值，以逗号r','分割(如'v1,v2,0.8'),结束请输入'-1'：\")\n",
    "            param_edge = input_edge.split(',')\n",
    "            if len(param_edge) < 3:\n",
    "                break\n",
    "            graph.add_edges_from([(param_edge[0], param_edge[1], {'weight': float(param_edge[2])})])\n",
    "        return graph\n",
    "\n",
    "    # 由有向图产生邻接表（用dict来表示）\n",
    "    def __generate_adj_dict(self):\n",
    "        res_dic = {}\n",
    "        for key, val in dict(self.graph.adj).items():\n",
    "            res_dic[key] = dict(val)\n",
    "        return res_dic"
   ],
   "metadata": {
    "collapsed": false,
    "pycharm": {
     "name": "#%%\n",
     "is_executing": false
    }
   }
  },
  {
   "cell_type": "code",
   "execution_count": 39,
   "outputs": [],
   "source": [
    "class Djkstra:\n",
    "    def __init__(self, graph, start_point_name):\n",
    "        # graph图对象\n",
    "        self.graph = graph\n",
    "        # 邻接表\n",
    "        self.adj_dict = self.__generate_adj_dict()\n",
    "        # 固定节点名与对应的索引\n",
    "        self.node_names = list(self.graph.node)\n",
    "        self.node_names.sort()\n",
    "        # 记录节点是否已经访问的列表(与self.nodes_name中一一对应)\n",
    "        self.if_visited_list = [False for _ in range(len(self.node_names))]\n",
    "        # 记录从起始点到各节点的最短距离的列表\n",
    "        self.shortest_distance_list = [maxsize if self.node_names[index] != start_point_name else 0 \n",
    "                                       for index in range(len(self.node_names))]\n",
    "        # 记录对于所有节点而言，最短路径中连接当前节点的上级节点索引\n",
    "        self.best_path_pre_node_list = [-1 for _ in range(len(self.node_names))]\n",
    "        # 出发点索引\n",
    "        self.start_point_index = self.node_names.index(start_point_name)\n",
    "        # 维护的一个过程列表，存放if_visited_list中对应值为 false 并\n",
    "        # 且distance_visited_list不为无穷大的备选访问节点\n",
    "        self.node_container = []\n",
    "        # 运行主程\n",
    "        self.djkstra_engine()\n",
    "    \n",
    "    # 根据节点名称转换为节点索引\n",
    "    def __node_transfer_index(self, node_name):\n",
    "        return self.node_names.index(node_name)\n",
    "    \n",
    "    # 根据节点索引转换成节点名称\n",
    "    def __index_transfer_node(self, node_index):\n",
    "        return self.node_names[node_index]\n",
    "    \n",
    "    # 可视化图结构\n",
    "    def graph_plot(self):\n",
    "        graph = self.graph\n",
    "        edge_labels = dict([((u,v,),d['weight'])\n",
    "                 for u,v,d in graph.edges(data=True)])\n",
    "        pos = networkx.spring_layout(graph)\n",
    "        networkx.draw_networkx_edges(graph, pos, arrows=True)\n",
    "        networkx.draw_networkx_labels(graph,pos)\n",
    "        networkx.draw_networkx_edge_labels(graph,pos,edge_labels=edge_labels)\n",
    "        networkx.draw(graph,pos,node_size=1500,node_color=None,alpha=0.8,arrows=True)\n",
    "        pylab.show()\n",
    "        \n",
    "    # 由有向图产生邻接表（用dict来表示）\n",
    "    def __generate_adj_dict(self):\n",
    "        res_dic = {}\n",
    "        for key,val in dict(self.graph.adj).items():\n",
    "            res_dic[key] = dict(val)\n",
    "        return res_dic\n",
    "    \n",
    "    # 查找self.node_container中的节点（要求该节点在shortest_distance_list中的对应值最小）\n",
    "    # 然后从self.node_container中弹出该节点的ID\n",
    "    def search_and_pop_min_dv(self):\n",
    "        # node_container中各节点对应的dv值（从出发点到各节点的最短路径长度）\n",
    "        dv_list = [ self.shortest_distance_list[node_index] for node_index in self.node_container]\n",
    "        # dv值最小的节点index\n",
    "        res_node_index = self.node_container[np.argmin(dv_list)]\n",
    "        # 从node_container中弹出dv值最小的节点\n",
    "        self.node_container.remove(res_node_index)\n",
    "        return res_node_index\n",
    "       \n",
    "    # 将输入节点设为已经访问\n",
    "    def __update_if_visited_list(self, node_index):\n",
    "        self.if_visited_list[node_index] = True\n",
    "        \n",
    "    # 运行主程\n",
    "    def djkstra_engine(self):\n",
    "        self.node_container.append(self.start_point_index)\n",
    "        while len(self.node_container) != 0:\n",
    "            node_base_index = self.search_and_pop_min_dv()\n",
    "            # 将这个节点设为已经访问\n",
    "            self.__update_if_visited_list(node_base_index)\n",
    "            \n",
    "            node_base_name = self.__index_transfer_node(node_base_index)\n",
    "            # 与这个节点node_base相邻的并且\n",
    "            # 在is_visited_list对应位置为false的全部节点\n",
    "            for adj_node_name in self.adj_dict[node_base_name].keys():\n",
    "                if self.if_visited_list[self.__node_transfer_index(adj_node_name)]:\n",
    "                    # 如果邻接的节点是已经访问过的节点，那么直接跳过\n",
    "                    continue\n",
    "                adj_node_index = self.__node_transfer_index(adj_node_name)\n",
    "                dv1 = self.shortest_distance_list[node_base_index]\n",
    "                dv2 = self.adj_dict[node_base_name][adj_node_name]['weight']\n",
    "                if dv1 + dv2 < self.shortest_distance_list[adj_node_index]:\n",
    "                    # 借由node_base_name达到adj_node_name的距离更短，\n",
    "                    # 那么更新两个表：shortest_distance_list和best_path_pre_node_list\n",
    "                    self.shortest_distance_list[adj_node_index] = dv1 + dv2\n",
    "                    self.best_path_pre_node_list[adj_node_index] = node_base_name\n",
    "                    if adj_node_index not in self.node_container:\n",
    "                        self.node_container.append(adj_node_index)\n",
    "    \n",
    "    # 输入终点，回溯输出完整最短路径名,以及最短路径的长度\n",
    "    def backtracking_path(self, target_node_name):\n",
    "        path_length = self.shortest_distance_list[self.__node_transfer_index(target_node_name)]\n",
    "        res_path = [target_node_name]\n",
    "        while self.best_path_pre_node_list[self.__node_transfer_index(target_node_name)] != \\\n",
    "                self.__index_transfer_node(self.start_point_index):\n",
    "            pre_name = self.best_path_pre_node_list[self.__node_transfer_index(target_node_name)]\n",
    "            res_path.append(pre_name)\n",
    "            target_node_name = pre_name\n",
    "        res_path.append(self.__index_transfer_node(self.start_point_index))\n",
    "        res_path.reverse()\n",
    "        print('%s 到 %s 的最短路径为%s,路径长度为%s'%(res_path[0],res_path[-1],res_path, path_length))\n",
    "        "
   ],
   "metadata": {
    "collapsed": false,
    "pycharm": {
     "name": "#%%\n",
     "is_executing": false
    }
   }
  },
  {
   "cell_type": "code",
   "execution_count": 50,
   "outputs": [
    {
     "data": {
      "text/plain": "<Figure size 432x288 with 1 Axes>",
      "image/png": "[encoded data removed]"
     },
     "metadata": {},
     "output_type": "display_data"
    }
   ],
   "source": [
    "graph_test = Graph(with_default=1, with_arrow=False)\n",
    "graph_test.graph_plot()"
   ],
   "metadata": {
    "collapsed": false,
    "pycharm": {
     "name": "#%%\n",
     "is_executing": false
    }
   }
  },
  {
   "cell_type": "code",
   "execution_count": 51,
   "outputs": [],
   "source": [
    "djkstra = Djkstra(graph_test.graph, start_point_name='v1')\n",
    "djkstra.djkstra_engine()"
   ],
   "metadata": {
    "collapsed": false,
    "pycharm": {
     "name": "#%%\n",
     "is_executing": false
    }
   }
  },
  {
   "cell_type": "code",
   "execution_count": 52,
   "outputs": [
    {
     "name": "stdout",
     "text": [
      "v1 到 v3 的最短路径为['v1', 'v4', 'v3'],路径长度为3\n"
     ],
     "output_type": "stream"
    },
    {
     "data": {
      "text/plain": "{'v1': {'v2': {'weight': 2}, 'v4': {'weight': 1}, 'v3': {'weight': 4}},\n 'v2': {'v1': {'weight': 2}, 'v4': {'weight': 3}, 'v5': {'weight': 10}},\n 'v4': {'v1': {'weight': 1},\n  'v2': {'weight': 3},\n  'v3': {'weight': 2},\n  'v5': {'weight': 2},\n  'v6': {'weight': 8},\n  'v7': {'weight': 4}},\n 'v5': {'v2': {'weight': 10}, 'v4': {'weight': 2}, 'v7': {'weight': 6}},\n 'v3': {'v1': {'weight': 4}, 'v6': {'weight': 5}, 'v4': {'weight': 2}},\n 'v6': {'v3': {'weight': 5}, 'v4': {'weight': 8}, 'v7': {'weight': 1}},\n 'v7': {'v4': {'weight': 4}, 'v5': {'weight': 6}, 'v6': {'weight': 1}}}"
     },
     "metadata": {},
     "output_type": "execute_result",
     "execution_count": 52
    }
   ],
   "source": [
    "djkstra.backtracking_path('v3')\n",
    "djkstra.adj_dict"
   ],
   "metadata": {
    "collapsed": false,
    "pycharm": {
     "name": "#%%\n",
     "is_executing": false
    }
   }
  },
  {
   "cell_type": "code",
   "execution_count": null,
   "outputs": [],
   "source": [
    "\n"
   ],
   "metadata": {
    "collapsed": false,
    "pycharm": {
     "name": "#%%\n"
    }
   }
  }
 ],
 "metadata": {
  "language_info": {
   "codemirror_mode": {
    "name": "ipython",
    "version": 2
   },
   "file_extension": ".py",
   "mimetype": "text/x-python",
   "name": "python",
   "nbconvert_exporter": "python",
   "pygments_lexer": "ipython2",
   "version": "2.7.6"
  },
  "kernelspec": {
   "name": "python3",
   "language": "python",
   "display_name": "Python 3"
  },
  "pycharm": {
   "stem_cell": {
    "cell_type": "raw",
    "source": [],
    "metadata": {
     "collapsed": false
    }
   }
  }
 },
 "nbformat": 4,
 "nbformat_minor": 0
}