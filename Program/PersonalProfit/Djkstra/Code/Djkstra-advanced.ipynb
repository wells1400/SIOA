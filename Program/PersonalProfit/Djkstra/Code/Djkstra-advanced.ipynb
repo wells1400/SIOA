{
 "cells": [
  {
   "cell_type": "code",
   "execution_count": 1,
   "metadata": {
    "collapsed": true,
    "pycharm": {
     "is_executing": false
    }
   },
   "outputs": [],
   "source": [
    "import networkx\n",
    "import pylab\n",
    "import numpy as np\n",
    "from sys import maxsize"
   ]
  },
  {
   "cell_type": "code",
   "execution_count": 23,
   "outputs": [],
   "source": [
    "# 图类\n",
    "class GraphGenerator:\n",
    "    def __init__(self, with_arrow=False,\n",
    "                 data_file_path=r'E:\\OtherProfit\\Program\\PersonalProfit\\Djkstra\\source data\\graph.txt',\n",
    "                 pic_save_path=r'E:\\OtherProfit\\Program\\PersonalProfit\\Djkstra\\PicSaveDir'\n",
    "                 ):\n",
    "        self.with_arrow = with_arrow  # 生成图是有向或者无向 fasle为无向，true是有向\n",
    "\n",
    "        self.node_weight_dic = {}  # 节点权重\n",
    "        self.graph = self.__generate_graph_with_file(data_file_path)  # 读取文件生成图\n",
    "        self.adj_dict = self.__generate_adj_dict()  # 生成邻接表\n",
    "        self.node_names = list(self.graph.node)  # 节点名列表\n",
    "        self.node_names.sort()\n",
    "\n",
    "        self.graph_plot(pic_save_path)  # 绘制一下图\n",
    "\n",
    "    # 读取文件生成图\n",
    "    def __generate_graph_with_file(self, file_path):\n",
    "        graph = networkx.Graph()\n",
    "        if self.with_arrow:\n",
    "            graph = networkx.DiGraph()\n",
    "        with open(file_path, 'r') as f:\n",
    "            for line in f:\n",
    "                line = line.replace('\\n', '')\n",
    "                param_edge = line.split(',')\n",
    "                if len(param_edge) < 5:\n",
    "                    raise 'not enough param parsed at:' + line\n",
    "                graph.add_edges_from([(param_edge[0], param_edge[1], {'weight': float(param_edge[-1])})])\n",
    "                if param_edge[0] in self.node_weight_dic and self.node_weight_dic[param_edge[0]] != float(\n",
    "                        param_edge[2]):\n",
    "                    raise 'node weight wrong for node %s at: %s' % (param_edge[0], line)\n",
    "                if param_edge[1] in self.node_weight_dic and self.node_weight_dic[param_edge[1]] != float(\n",
    "                        param_edge[3]):\n",
    "                    raise 'node weight wrong for node %s at: %s' % (param_edge[1], line)\n",
    "                if param_edge[0] not in self.node_weight_dic:\n",
    "                    self.node_weight_dic[param_edge[0]] = float(param_edge[2])\n",
    "                if param_edge[1] not in self.node_weight_dic:\n",
    "                    self.node_weight_dic[param_edge[1]] = float(param_edge[3])\n",
    "        return graph\n",
    "\n",
    "    # 可视化有权图\n",
    "    def graph_plot(self,pic_save_path):\n",
    "        graph = self.graph\n",
    "        edge_labels = dict([((u, v,), d['weight'])\n",
    "                            for u, v, d in graph.edges(data=True)])\n",
    "        pos = networkx.spring_layout(graph)\n",
    "        networkx.draw_networkx_edges(graph, pos, arrows=True)\n",
    "        networkx.draw_networkx_labels(graph, pos)\n",
    "        networkx.draw_networkx_edge_labels(graph, pos, edge_labels=edge_labels)\n",
    "        networkx.draw(graph, pos, node_size=1500, node_color=None, alpha=0.8, arrows=True)\n",
    "        pylab.savefig(pic_save_path + r'\\\\Graph.png')\n",
    "        pylab.show()\n",
    "\n",
    "    # 由有向图产生邻接表（用dict来表示）\n",
    "    def __generate_adj_dict(self):\n",
    "        res_dic = {}\n",
    "        for key, val in dict(self.graph.adj).items():\n",
    "            res_dic[key] = dict(val)\n",
    "        return res_dic"
   ],
   "metadata": {
    "collapsed": false,
    "pycharm": {
     "name": "#%%\n",
     "is_executing": false
    }
   }
  },
  {
   "cell_type": "code",
   "execution_count": 23,
   "outputs": [],
   "source": [],
   "metadata": {
    "collapsed": false,
    "pycharm": {
     "name": "#%%\n",
     "is_executing": false
    }
   }
  },
  {
   "cell_type": "code",
   "execution_count": 28,
   "outputs": [],
   "source": [
    "# 改进的Djkstra算法类\n",
    "class AdvancedDjkstra:\n",
    "    def __init__(self, graph, load_threshold):\n",
    "        self.graph_object = graph  # 图类\n",
    "        self.adj_dic = self.graph_object.adj_dict  # 邻接表\n",
    "        self.node_weight_dic = self.graph_object.node_weight_dic  # 节点权重表\n",
    "        self.node_names = self.graph_object.node_names  # 节点名\n",
    "        self.load_threshold = load_threshold  # 负荷阈值\n",
    "        self.param_i = 1  # 变量i\n",
    "\n",
    "        self.node_names = self.graph_object.node_names  # 节点名\n",
    "        self.if_visited_list = [False for _ in range(len(self.node_names))]  # 记录节点是否已经访问的列表\n",
    "\n",
    "        self.path_container = []  # 最终要输出的路径集合\n",
    "\n",
    "    # 统计if_visited_list中为true的节点个数\n",
    "    def count_node_visited(self):\n",
    "        return np.sum(self.if_visited_list)\n",
    "\n",
    "    #  计算 还未访问的所有节点权重之和\n",
    "    def cal_node_weights_unvisited(self):\n",
    "        return np.sum([self.node_weight_dic[self.node_names[index]] if not self.if_visited_list[index] else 0\n",
    "                       for index in range(len(self.node_names))])\n",
    "\n",
    "    # 查找 还未访问的所有节点中，权重最大的那一个节点索引\n",
    "    def research_max_weight_node(self):\n",
    "        return np.argmax([self.node_weight_dic[self.node_names[index]] if not self.if_visited_list[index] else 0\n",
    "                          for index in range(len(self.node_names))])\n",
    "\n",
    "    # 输入节点名，检查是否已经访问\n",
    "    def check_if_visited(self, node_name):\n",
    "        return self.if_visited_list[self.node_names.index(node_name)]\n",
    "\n",
    "    # 输入节点名，将该节点设置为已经访问\n",
    "    def update_if_visited_list(self, node_name):\n",
    "        self.if_visited_list[self.node_names.index(node_name)] = True\n",
    "\n",
    "    # 运行主程序\n",
    "    def advanced_djkstra_engine(self):\n",
    "        while self.count_node_visited() < len(self.node_names):\n",
    "            unvisited_nodes_weight = self.cal_node_weights_unvisited()\n",
    "            if unvisited_nodes_weight > self.load_threshold:\n",
    "                self.param_i += 1\n",
    "            path_tmp = []  # 产生一条路径\n",
    "            start_node_index = self.research_max_weight_node()\n",
    "            self.if_visited_list[start_node_index] = True\n",
    "            path_tmp.append(self.node_names[start_node_index])\n",
    "            path_tmp_weight = self.node_weight_dic[self.node_names[start_node_index]]  # 路径path_tmp所有节点的权重之和\n",
    "            while path_tmp_weight < self.load_threshold:\n",
    "                candidate_visit = []\n",
    "                adj_dic = self.adj_dic[path_tmp[-1]]\n",
    "                for adj_node_name in adj_dic.keys():\n",
    "                    tmp_dic = {}\n",
    "                    tmp_dic['node_name'] = adj_node_name\n",
    "                    tmp_dic['edge_weight'] = self.node_weight_dic[adj_node_name]\n",
    "                    if not self.check_if_visited(adj_node_name):\n",
    "                        candidate_visit.append(tmp_dic)\n",
    "                # 将邻结点按边权重从大到小排序\n",
    "                candidate_visit = sorted(candidate_visit, key=lambda x: x['edge_weight'], reverse=True)\n",
    "                if len(candidate_visit) == 0:\n",
    "                    break\n",
    "                if candidate_visit[-1]['edge_weight'] + path_tmp_weight >= self.load_threshold:\n",
    "                    break\n",
    "                # 从candidate_visit中搜寻合适的访问结点\n",
    "                for candidate_node in candidate_visit:\n",
    "                    if candidate_node['edge_weight'] + path_tmp_weight >= self.load_threshold:\n",
    "                        continue\n",
    "                    else:\n",
    "                        # 找到合适的节点了，吸收这个节点\n",
    "                        self.update_if_visited_list(candidate_node['node_name'])\n",
    "                        path_tmp.append(candidate_node['node_name'])\n",
    "                        path_tmp_weight += candidate_node['edge_weight']\n",
    "            # 路径生长完成，记录这条路径\n",
    "            self.path_container.append(path_tmp)\n",
    "        print('value of param_i:%d' % self.param_i)\n",
    "        print('path generated:', self.path_container)\n",
    "        return self.param_i, self.path_container\n",
    "    "
   ],
   "metadata": {
    "collapsed": false,
    "pycharm": {
     "name": "#%%\n",
     "is_executing": false
    }
   }
  },
  {
   "cell_type": "code",
   "execution_count": 29,
   "outputs": [
    {
     "data": {
      "text/plain": "<Figure size 432x288 with 1 Axes>",
      "image/png": "[encoded data removed]"
     },
     "metadata": {},
     "output_type": "display_data"
    }
   ],
   "source": [
    "file_path = r'E:\\OtherProfit\\Program\\PersonalProfit\\Djkstra\\source data\\graph_data.txt'\n",
    "graph_generator = GraphGenerator(with_arrow=False, data_file_path=file_path)\n"
   ],
   "metadata": {
    "collapsed": false,
    "pycharm": {
     "name": "#%%\n",
     "is_executing": false
    }
   }
  },
  {
   "cell_type": "code",
   "execution_count": 30,
   "outputs": [],
   "source": [
    "advanced_djkstra = AdvancedDjkstra(graph_generator, load_threshold=5)"
   ],
   "metadata": {
    "collapsed": false,
    "pycharm": {
     "name": "#%%\n",
     "is_executing": false
    }
   }
  },
  {
   "cell_type": "code",
   "execution_count": 31,
   "outputs": [
    {
     "name": "stdout",
     "text": [
      "value of param_i:3\npath generated: [['v1'], ['v2', 'v4'], ['v3']]\n"
     ],
     "output_type": "stream"
    },
    {
     "data": {
      "text/plain": "(3, [['v1'], ['v2', 'v4'], ['v3']])"
     },
     "metadata": {},
     "output_type": "execute_result",
     "execution_count": 31
    }
   ],
   "source": [
    "advanced_djkstra.advanced_djkstra_engine()"
   ],
   "metadata": {
    "collapsed": false,
    "pycharm": {
     "name": "#%%\n",
     "is_executing": false
    }
   }
  },
  {
   "cell_type": "code",
   "execution_count": 24,
   "outputs": [
    {
     "data": {
      "text/plain": "{'v1': 4.0, 'v2': 3.0, 'v4': 1.0, 'v3': 2.0}"
     },
     "metadata": {},
     "output_type": "execute_result",
     "execution_count": 24
    }
   ],
   "source": [
    "\n"
   ],
   "metadata": {
    "collapsed": false,
    "pycharm": {
     "name": "#%%\n",
     "is_executing": false
    }
   }
  }
 ],
 "metadata": {
  "language_info": {
   "codemirror_mode": {
    "name": "ipython",
    "version": 2
   },
   "file_extension": ".py",
   "mimetype": "text/x-python",
   "name": "python",
   "nbconvert_exporter": "python",
   "pygments_lexer": "ipython2",
   "version": "2.7.6"
  },
  "kernelspec": {
   "name": "python3",
   "language": "python",
   "display_name": "Python 3"
  },
  "pycharm": {
   "stem_cell": {
    "cell_type": "raw",
    "source": [],
    "metadata": {
     "collapsed": false
    }
   }
  }
 },
 "nbformat": 4,
 "nbformat_minor": 0
}