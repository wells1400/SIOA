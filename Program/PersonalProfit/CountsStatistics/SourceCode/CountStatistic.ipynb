{
 "cells": [
  {
   "cell_type": "code",
   "execution_count": 1,
   "metadata": {
    "pycharm": {
     "is_executing": false
    }
   },
   "outputs": [],
   "source": [
    "import pandas as pd"
   ]
  },
  {
   "cell_type": "code",
   "execution_count": 2,
   "metadata": {
    "pycharm": {
     "is_executing": false,
     "name": "#%%\n"
    }
   },
   "outputs": [],
   "source": [
    "def count_statictic(file_path, \n",
    "                    out_file_path=r'E:\\SIOA\\Program\\PersonalProfit\\CountsStatistics\\SourceData'):\n",
    "    count_dic = {}\n",
    "    with open(file_path, 'r') as f:\n",
    "        for line in f:\n",
    "            line = line.replace('\\n','')\n",
    "            if line not in count_dic:\n",
    "                count_dic[line] = 1\n",
    "            else:\n",
    "                count_dic[line] += 1\n",
    "    keys_list = []\n",
    "    values_list = []\n",
    "    for key, value in count_dic.items():\n",
    "        keys_list.append(key)\n",
    "        values_list.append(value)\n",
    "    res_pd = pd.DataFrame({'条件':keys_list, '个数':values_list})\n",
    "    res_pd = res_pd.sort_values(by=['个数'],ascending=False)\n",
    "    res_pd  =res_pd.reset_index(drop=True)\n",
    "    res_pd.to_excel(out_file_path + '\\output.xlsx',index=None)\n",
    "    return res_pd"
   ]
  },
  {
   "cell_type": "code",
   "execution_count": 3,
   "metadata": {
    "pycharm": {
     "is_executing": false,
     "name": "#%%\n"
    }
   },
   "outputs": [],
   "source": [
    "# file_path是你要计算的文件的完整路径，out_file_path是存放要输出的结果文件的文件夹的完整路径\n",
    "file_path = r'E:\\SIOA\\Program\\PersonalProfit\\CountsStatistics\\SourceData\\baocun.txt'\n",
    "res_pd = count_statictic(file_path,out_file_path=r'E:\\SIOA\\Program\\PersonalProfit\\CountsStatistics\\ResultData')"
   ]
  }
 ],
 "metadata": {
  "kernelspec": {
   "display_name": "Python 3",
   "language": "python",
   "name": "python3"
  },
  "language_info": {
   "codemirror_mode": {
    "name": "ipython",
    "version": 3
   },
   "file_extension": ".py",
   "mimetype": "text/x-python",
   "name": "python",
   "nbconvert_exporter": "python",
   "pygments_lexer": "ipython3",
   "version": "3.7.3"
  },
  "pycharm": {
   "stem_cell": {
    "cell_type": "raw",
    "metadata": {
     "collapsed": false
    },
    "source": []
   }
  }
 },
 "nbformat": 4,
 "nbformat_minor": 1
}
