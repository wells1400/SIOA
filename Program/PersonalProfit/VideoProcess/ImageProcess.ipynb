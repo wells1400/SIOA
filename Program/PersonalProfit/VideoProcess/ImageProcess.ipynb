{
 "cells": [
  {
   "cell_type": "code",
   "execution_count": 31,
   "metadata": {
    "collapsed": true,
    "pycharm": {
     "is_executing": false
    }
   },
   "outputs": [],
   "source": [
    "import numpy as np\n",
    "import cv2\n",
    "import os"
   ]
  },
  {
   "cell_type": "code",
   "execution_count": 55,
   "outputs": [],
   "source": [
    "class VideoProcess:\n",
    "    def __init__(self, \n",
    "                 video_path=r'H:\\Other Program\\Program\\PersonalProfit\\VideoProcess\\SourceData\\dark_moving.mp4', \n",
    "                 image_save_dir=r'H:\\Other Program\\Program\\PersonalProfit\\VideoProcess\\ImageSaveDir',\n",
    "                 video_frame_interval=25,\n",
    "                 dark_threshold=40,\n",
    "                 dark_percent_threshold=0.8,\n",
    "                 camera_pic_save_path=r'H:\\Other Program\\Program\\PersonalProfit\\VideoProcess\\CameraOpen'\n",
    "                 ):\n",
    "        # 视频文件位置\n",
    "        self.video_path = video_path\n",
    "        # 视频帧图像保存位置\n",
    "        self.image_save_dir = image_save_dir\n",
    "        # 视频帧数间隔\n",
    "        self.video_frame_interval = video_frame_interval\n",
    "        # 图片灰度值阈值，像素点灰度值低于这个阈值认为是暗点\n",
    "        self.dark_threshold = dark_threshold\n",
    "        # 暗点占比阈值，大于这个阈值认为该图片是暗的\n",
    "        self.dark_percent_threshold  =dark_percent_threshold\n",
    "        # 摄像头拍摄的照片保存的目录\n",
    "        self.camera_pic_save_path = camera_pic_save_path\n",
    "        # 截取的图片的路径列表\n",
    "        self.pic_path = []\n",
    "        # 当前遍历到的图片的索引\n",
    "        self.pic_index_pos = 0\n",
    "        \n",
    "    # 按指定帧数间隔截取视频并保存到指定位置\n",
    "    def video_frame_capture(self):\n",
    "        vc = cv2.VideoCapture(self.video_path)\n",
    "        count = 1\n",
    "        if vc.isOpened():\n",
    "            rval,frame = vc.read()\n",
    "            cv2.imwrite(self.image_save_dir + r'\\\\part_%d'%count + '.jpg',frame)\n",
    "        else:\n",
    "            rval = False\n",
    "        while rval:\n",
    "            rval, frame = vc.read()\n",
    "            if count%self.video_frame_interval == 0:\n",
    "                cv2.imwrite(self.image_save_dir + r'\\\\part_%d'%count + '.jpg',frame)\n",
    "            count += 1\n",
    "            cv2.waitKey(1)\n",
    "        vc.release()\n",
    "    \n",
    "    # 输入一场图片，以及判断图片是不是暗的那个像素点占比分类阈值，\n",
    "    # 判断这个图片是不是暗的，如果是暗的返回True，否则返回False\n",
    "    def check_image_if_dark(self, pic_path):\n",
    "        # 转化成灰度图\n",
    "        img = cv2.imread(pic_path, cv2.IMREAD_GRAYSCALE)\n",
    "        total_pixels = img.shape[0]*img.shape[1]\n",
    "        dark_pixel_count = 0\n",
    "        for row in img:\n",
    "            row_count = np.array(row)\n",
    "            dark_pixel_count += len(row_count[row_count < self.dark_threshold])\n",
    "        return dark_pixel_count/total_pixels > self.dark_percent_threshold\n",
    "            \n",
    "    \n",
    "    # 读取指定目录，返回目录下所有以.jpg结尾的图片路径\n",
    "    def load_pic_paths(self, dir_path):\n",
    "        res_pic_paths = []\n",
    "        for root,firs,files in os.walk(dir_path):\n",
    "            for file in files:\n",
    "                if 'jpg' in file.split('.'):\n",
    "                    res_pic_paths.append(root + r'\\\\'+file)\n",
    "        return res_pic_paths\n",
    "    \n",
    "    # 控制开启摄像头,并拍摄一张照片保存,作为开启灯光的代替\n",
    "    def open_camera_and_shot(self, camera_pic_save_path=r'H:\\Other Program\\Program\\PersonalProfit\\VideoProcess\\CameraOpen'):\n",
    "        print('开启灯光！（这里用摄像头拍张照代替，图片存储位置在：%s）'%camera_pic_save_path)\n",
    "        cap = cv2.VideoCapture(0)\n",
    "        f,frame = cap.read()  # 拍张照\n",
    "        cv2.imwrite(camera_pic_save_path + r'\\\\' + 'camera_opened_flag.jpg', frame)\n",
    "        cap.release() # 关闭调用的摄像头\n",
    "    \n",
    "    # 输入第一张暗图的索引,将这张暗图作为背景，根据后续的图像帧判断是否存在动态实体\n",
    "    # 存在动态实体返回1， 不存在返回0\n",
    "    def check_if_moving_conent(self, ):\n",
    "    \n",
    "    # 灯光控制主程\n",
    "    def video_process_engine(self):\n",
    "        # 先截取视频图片\n",
    "        self.video_frame_capture()\n",
    "        # 获取截取的图片的路径列表\n",
    "        self.pic_path = self.load_pic_paths(self.image_save_dir)\n",
    "        # 持续读取图片\n",
    "        while self.pic_index_pos < len(self.pic_path):\n",
    "            # 如果不是暗图，则啥也不做，\n",
    "            if not self.check_image_if_dark(pic_path[self.pic_index_pos]):\n",
    "                continue\n",
    "            # 否则截取到暗图\n",
    "            \n",
    "            pass\n",
    "    \n",
    "    "
   ],
   "metadata": {
    "collapsed": false,
    "pycharm": {
     "name": "#%%\n",
     "is_executing": false
    }
   }
  },
  {
   "cell_type": "code",
   "execution_count": 56,
   "outputs": [],
   "source": [
    "video_path = r'H:\\Other Program\\Program\\PersonalProfit\\VideoProcess\\SourceData\\light_moving.mp4'\n",
    "image_save_dir = r'H:\\Other Program\\Program\\PersonalProfit\\VideoProcess\\ImageSaveDir'\n",
    "video_processor = VideoProcess(video_path=video_path, image_save_dir=image_save_dir)\n",
    "video_processor.video_frame_capture()"
   ],
   "metadata": {
    "collapsed": false,
    "pycharm": {
     "name": "#%%\n",
     "is_executing": false
    }
   }
  },
  {
   "cell_type": "code",
   "execution_count": 44,
   "outputs": [
    {
     "data": {
      "text/plain": "False"
     },
     "metadata": {},
     "output_type": "execute_result",
     "execution_count": 44
    }
   ],
   "source": [
    "pic_path = r'H:\\Other Program\\Program\\PersonalProfit\\VideoProcess\\ImageSaveDir\\part_25.jpg'\n",
    "video_processor.check_image_if_dark(pic_path)"
   ],
   "metadata": {
    "collapsed": false,
    "pycharm": {
     "name": "#%%\n",
     "is_executing": false
    }
   }
  },
  {
   "cell_type": "code",
   "execution_count": 45,
   "outputs": [],
   "source": [
    "tst_paths = video_processor.load_pic_paths(r'H:\\Other Program\\Program\\PersonalProfit\\VideoProcess\\ImageSaveDir')"
   ],
   "metadata": {
    "collapsed": false,
    "pycharm": {
     "name": "#%%\n",
     "is_executing": false
    }
   }
  },
  {
   "cell_type": "code",
   "execution_count": 58,
   "outputs": [],
   "source": [
    "video_processor.open_camera_and_shot()"
   ],
   "metadata": {
    "collapsed": false,
    "pycharm": {
     "name": "#%%\n",
     "is_executing": false
    }
   }
  },
  {
   "cell_type": "code",
   "execution_count": null,
   "outputs": [],
   "source": [
    "\n"
   ],
   "metadata": {
    "collapsed": false,
    "pycharm": {
     "name": "#%%\n"
    }
   }
  }
 ],
 "metadata": {
  "language_info": {
   "codemirror_mode": {
    "name": "ipython",
    "version": 2
   },
   "file_extension": ".py",
   "mimetype": "text/x-python",
   "name": "python",
   "nbconvert_exporter": "python",
   "pygments_lexer": "ipython2",
   "version": "2.7.6"
  },
  "kernelspec": {
   "name": "python3",
   "language": "python",
   "display_name": "Python 3"
  },
  "pycharm": {
   "stem_cell": {
    "cell_type": "raw",
    "source": [],
    "metadata": {
     "collapsed": false
    }
   }
  }
 },
 "nbformat": 4,
 "nbformat_minor": 0
}