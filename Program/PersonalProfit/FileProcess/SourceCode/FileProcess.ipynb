{
 "cells": [
  {
   "cell_type": "code",
   "execution_count": 16,
   "metadata": {
    "collapsed": true,
    "pycharm": {
     "is_executing": false
    }
   },
   "outputs": [],
   "source": [
    "import time\n",
    "import os\n",
    "from multiprocessing import Pool,Process,Lock\n",
    "import multiprocessing\n",
    "multiprocessing.freeze_support()"
   ]
  },
  {
   "cell_type": "code",
   "execution_count": 17,
   "outputs": [],
   "source": [
    "class FileProcess:\n",
    "    def __init__(self, \n",
    "                 root_path=r'E:\\SIOA\\Program\\PersonalProfit\\FileProcess\\SourceData',\n",
    "                 n_jobs=4\n",
    "                 ):\n",
    "        self.root_path = root_path\n",
    "        # 计数器\n",
    "        self.iter_count = 0\n",
    "        self.max_iters = -1\n",
    "        # 要计算的文件路径组合\n",
    "        self.path_container = []\n",
    "        # 最大进程数\n",
    "        self.n_jobs = n_jobs\n",
    "        \n",
    "    @staticmethod\n",
    "    def file_process(file_path_1, file_path_2, file_path_3):\n",
    "        print('Start at:', time.strftime(\"%Y-%m-%d %H:%M:%S\", time.localtime()))\n",
    "        base_file_1 = set()\n",
    "        base_file_2 = set()\n",
    "        with open(file_path_1, 'r') as file1:\n",
    "            with open(file_path_2, 'r') as file2:\n",
    "                for line in file2:\n",
    "                    line = line.strip()\n",
    "                    base_file_2.update([line])\n",
    "                for line in file1:\n",
    "                    line = line.strip()\n",
    "                    base_file_1.update([line])\n",
    "        res_data = list(base_file_1 & base_file_2)\n",
    "        print('End at:',time.strftime(\"%Y-%m-%d %H:%M:%S\", time.localtime()))\n",
    "        with open(file_path_3, 'w') as f:\n",
    "            for val in res_data:\n",
    "                f.write(val)\n",
    "                f.write('\\n')\n",
    "\n",
    "    # 访问路径生成器,返回输入的最大循环次数\n",
    "    def path_generator(self):\n",
    "        test_count = int(input(r'请输入要循环测次数：'))\n",
    "        self.max_iters = test_count\n",
    "        file_path_1_index = input(r'请输入file_path_1名：')\n",
    "        file_path_2_index = input(r'请输入file_path_2名：')\n",
    "    \n",
    "        file_path_1 = self.root_path + r'\\\\'+ file_path_1_index + r'\\\\'\n",
    "        file_path_2 = self.root_path + r'\\\\'+ file_path_2_index + r'\\\\'\n",
    "    \n",
    "        out_file_index = 1\n",
    "\n",
    "        # 读取file_path_1文件夹内所有txt文件\n",
    "        files_list = os.listdir(file_path_1)\n",
    "        files_entire_list = [file_path_1 + files_list[i] for i in range(len(files_list))]\n",
    "        for base_index in range(len(files_list) - 1):\n",
    "            base_name = files_list[base_index].split(r'.')[0]\n",
    "            for pos_index in range(base_index+1, len(files_list)):\n",
    "                pos_name = files_list[pos_index].split(r'.')[0]\n",
    "                file_path_3 = file_path_2 + str(out_file_index) + r'_' + base_name + '_to_' + pos_name + r'.txt'\n",
    "                self.path_container.append([files_entire_list[base_index], files_entire_list[pos_index], file_path_3])\n",
    "                out_file_index += 1\n",
    "    \n",
    "    # 多进程-单任务运行程序\n",
    "    def worker_run(self, lock):\n",
    "        print('%s is running' %os.getpid())\n",
    "        while len(self.path_container) > 0:\n",
    "            items = self.path_container.pop()\n",
    "            # print(r'file_path_1: <<  %s >>'% items[0])\n",
    "            # print(r'file_path_2: <<  %s >>'% items[1])\n",
    "            # print(r'file_path_3: <<  %s >>'% items[2])\n",
    "            self.file_process(items[0], items[1], items[2])\n",
    "            self.iter_count += 1\n",
    "            if self.iter_count >= self.max_iters:\n",
    "                return\n",
    "            \n",
    "    # 运行主程序-多进程调用\n",
    "    def run_engine(self):\n",
    "        # worker_pools = Pool()\n",
    "        self.path_generator()\n",
    "        for i in range(self.n_jobs):\n",
    "            p = Process(target=self.worker_run, args=(Lock(),))\n",
    "            p.start()\n",
    "            p.join()\n",
    "            # worker_pools.apply_async(self.worker_run, args=(max_iters,))\n",
    "        # worker_pools.close()\n",
    "        # worker_pools.join()"
   ],
   "metadata": {
    "collapsed": false,
    "pycharm": {
     "name": "#%%\n",
     "is_executing": false
    }
   }
  },
  {
   "cell_type": "code",
   "execution_count": 18,
   "outputs": [],
   "source": [
    "# 输入 \\01 和\\02 文件夹所在的主目录\n",
    "file_processor = FileProcess(root_path=r'E:\\SIOA\\Program\\PersonalProfit\\FileProcess\\SourceData',\n",
    "                             n_jobs=4)\n",
    "file_processor.run_engine()"
   ],
   "metadata": {
    "collapsed": false,
    "pycharm": {
     "name": "#%%\n",
     "is_executing": false
    }
   }
  },
  {
   "cell_type": "code",
   "execution_count": null,
   "outputs": [],
   "source": [
    "\n"
   ],
   "metadata": {
    "collapsed": false,
    "pycharm": {
     "name": "#%%\n"
    }
   }
  }
 ],
 "metadata": {
  "language_info": {
   "codemirror_mode": {
    "name": "ipython",
    "version": 2
   },
   "file_extension": ".py",
   "mimetype": "text/x-python",
   "name": "python",
   "nbconvert_exporter": "python",
   "pygments_lexer": "ipython2",
   "version": "2.7.6"
  },
  "kernelspec": {
   "name": "python3",
   "language": "python",
   "display_name": "Python 3"
  },
  "pycharm": {
   "stem_cell": {
    "cell_type": "raw",
    "source": [],
    "metadata": {
     "collapsed": false
    }
   }
  }
 },
 "nbformat": 4,
 "nbformat_minor": 0
}