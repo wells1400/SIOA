{
 "cells": [
  {
   "cell_type": "code",
   "execution_count": 2,
   "metadata": {
    "collapsed": true,
    "pycharm": {
     "is_executing": false
    }
   },
   "outputs": [],
   "source": [
    "import numpy as np\n",
    "import pandas as pd"
   ]
  },
  {
   "cell_type": "code",
   "execution_count": 5,
   "outputs": [],
   "source": [
    "data_path_1 = r'H:\\Other Program\\Program\\PersonalProfit\\RandomForest\\DataSource\\fc1all_data.csv'\n",
    "data_path_2 = r'H:\\Other Program\\Program\\PersonalProfit\\RandomForest\\DataSource\\fc2all_data.csv'"
   ],
   "metadata": {
    "collapsed": false,
    "pycharm": {
     "name": "#%%\n",
     "is_executing": false
    }
   }
  },
  {
   "cell_type": "code",
   "execution_count": 6,
   "outputs": [
    {
     "name": "stderr",
     "text": [
      "C:\\Anaconda\\lib\\site-packages\\IPython\\core\\interactiveshell.py:3049: DtypeWarning: Columns (0) have mixed types. Specify dtype option on import or set low_memory=False.\n  interactivity=interactivity, compiler=compiler, result=result)\n"
     ],
     "output_type": "stream"
    }
   ],
   "source": [
    "data_pd = pd.read_csv(data_path_1)"
   ],
   "metadata": {
    "collapsed": false,
    "pycharm": {
     "name": "#%%\n",
     "is_executing": false
    }
   }
  },
  {
   "cell_type": "code",
   "execution_count": 8,
   "outputs": [],
   "source": [
    "data_pd['time_minutes'] = 60*data_pd['Time']"
   ],
   "metadata": {
    "collapsed": false,
    "pycharm": {
     "name": "#%%\n",
     "is_executing": false
    }
   }
  },
  {
   "cell_type": "code",
   "execution_count": 10,
   "outputs": [
    {
     "data": {
      "text/plain": "0                                                         0\n1                                                0.00938334\n2                                                 0.0192334\n3                                                 0.0284833\n4                                                 0.0374333\n5                                                   0.04765\n6                                                 0.0570334\n7                                                 0.0661667\n8                                                 0.0754834\n9                                                 0.0845666\n10                                                0.0934667\n11                                                  0.10245\n12                                                 0.111617\n13                                                    0.122\n14                                                   0.1316\n15                                                   0.1425\n16                                                 0.162517\n17                                                 0.182467\n18                                                 0.203067\n19                                                 0.222567\n20                                                  0.24255\n21                                                 0.262533\n22                                                 0.282533\n23                                                 0.302483\n24                                                 0.322517\n25                                                  0.34255\n26                                                  0.36255\n27                                                 0.382533\n28                                                 0.402533\n29                                                 0.422517\n                                ...                        \n143833    1153.9784621153.9784621153.9784621153.97846211...\n143834    1153.9868461153.9868461153.9868461153.98684611...\n143835    1153.995221153.995221153.995221153.995221153.9...\n143836    1154.0036071154.0036071154.0036071154.00360711...\n143837    1154.0119971154.0119971154.0119971154.01199711...\n143838    1154.0203851154.0203851154.0203851154.02038511...\n143839    1154.0287841154.0287841154.0287841154.02878411...\n143840    1154.0371641154.0371641154.0371641154.03716411...\n143841    1154.0455741154.0455741154.0455741154.04557411...\n143842    1154.0539641154.0539641154.0539641154.05396411...\n143843    1154.0623381154.0623381154.0623381154.06233811...\n143844    1154.0707281154.0707281154.0707281154.07072811...\n143845    1154.0791141154.0791141154.0791141154.07911411...\n143846    1154.0875051154.0875051154.0875051154.08750511...\n143847    1154.0958941154.0958941154.0958941154.09589411...\n143848    1154.1042841154.1042841154.1042841154.10428411...\n143849    1154.1126711154.1126711154.1126711154.11267111...\n143850    1154.1210631154.1210631154.1210631154.12106311...\n143851    1154.1294511154.1294511154.1294511154.12945111...\n143852    1154.1378391154.1378391154.1378391154.13783911...\n143853    1154.1462371154.1462371154.1462371154.14623711...\n143854    1154.1546291154.1546291154.1546291154.15462911...\n143855    1154.1630111154.1630111154.1630111154.16301111...\n143856    1154.1714551154.1714551154.1714551154.17145511...\n143857    1154.1797881154.1797881154.1797881154.17978811...\n143858    1154.1881961154.1881961154.1881961154.18819611...\n143859    1154.1965861154.1965861154.1965861154.19658611...\n143860    1154.2049571154.2049571154.2049571154.20495711...\n143861    1154.2133561154.2133561154.2133561154.21335611...\n143862    \u001a\u001a\u001a\u001a\u001a\u001a\u001a\u001a\u001a\u001a\u001a\u001a\u001a\u001a\u001a\u001a\u001a\u001a\u001a\u001a\u001a\u001a\u001a\u001a\u001a\u001a\u001a\u001a\u001a\u001a\u001a\u001a\u001a\u001a\u001a\u001a\u001a\u001a\u001a\u001a\u001a\u001a\u001a\u001a\u001a\u001a...\nName: time_minutes, Length: 143863, dtype: object"
     },
     "metadata": {},
     "output_type": "execute_result",
     "execution_count": 10
    }
   ],
   "source": [
    "# 每10分钟采样一个点，输出DataFrame\n",
    "def sample_interval(data_pd):\n",
    "    \n",
    "\n"
   ],
   "metadata": {
    "collapsed": false,
    "pycharm": {
     "name": "#%%\n",
     "is_executing": false
    }
   }
  }
 ],
 "metadata": {
  "language_info": {
   "codemirror_mode": {
    "name": "ipython",
    "version": 2
   },
   "file_extension": ".py",
   "mimetype": "text/x-python",
   "name": "python",
   "nbconvert_exporter": "python",
   "pygments_lexer": "ipython2",
   "version": "2.7.6"
  },
  "kernelspec": {
   "name": "python3",
   "language": "python",
   "display_name": "Python 3"
  },
  "pycharm": {
   "stem_cell": {
    "cell_type": "raw",
    "source": [],
    "metadata": {
     "collapsed": false
    }
   }
  }
 },
 "nbformat": 4,
 "nbformat_minor": 0
}