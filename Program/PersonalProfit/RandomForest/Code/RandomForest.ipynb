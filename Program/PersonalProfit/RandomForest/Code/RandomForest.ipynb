{
 "cells": [
  {
   "cell_type": "code",
   "execution_count": 51,
   "metadata": {
    "collapsed": true,
    "pycharm": {
     "is_executing": false
    }
   },
   "outputs": [],
   "source": [
    "import numpy as np\n",
    "import pandas as pd\n",
    "import matplotlib.pyplot as plt\n",
    "from sklearn.svm import LinearSVR\n",
    "from sklearn.linear_model import Lasso\n",
    "from sklearn.feature_selection import SelectFromModel\n",
    "\n",
    "import seaborn as sns"
   ]
  },
  {
   "cell_type": "code",
   "execution_count": 60,
   "outputs": [],
   "source": [
    "# 每10分钟采样一个点，输出DataFrame\n",
    "class RandomForestModel:\n",
    "    def __init__(self, data_path_1, data_path_2, \n",
    "                 interval_minutes=10,\n",
    "                 pic_save_dir = r'E:\\OtherProfit\\Program\\PersonalProfit\\RandomForest\\PicSaveDir'\n",
    "                 ):\n",
    "        # 两个数据文件的路径\n",
    "        self.data_path_1  = data_path_1\n",
    "        self.data_path_2 = data_path_2\n",
    "        \n",
    "        # 采样时间间隔（分钟数）\n",
    "        self.interval_minutes = interval_minutes\n",
    "        \n",
    "        # DataFrame\n",
    "        self.data_pd_1 = self.__load_pd(self.data_path_1)\n",
    "        self.data_pd_2 = self.__load_pd(self.data_path_2)\n",
    "        \n",
    "        # 图片保存路径\n",
    "        self.pic_save_dir = pic_save_dir\n",
    "    \n",
    "    #  每10分钟采样一个点，输出DataFrame\n",
    "    def __load_pd(self, file_path):\n",
    "        data_pd = pd.read_csv(file_path)\n",
    "        threshold = 0\n",
    "        index_pos = 0\n",
    "        res_pd = pd.DataFrame()\n",
    "        while index_pos < data_pd.shape[0]:\n",
    "            if float(data_pd.loc[index_pos, 'Time'])*60 > threshold:\n",
    "                threshold += self.interval_minutes\n",
    "                add_pd = data_pd.loc[index_pos, :]\n",
    "                res_pd = pd.concat([res_pd, pd.DataFrame(add_pd).T],axis=0,sort=False)\n",
    "            index_pos += 1\n",
    "        res_pd = res_pd.sort_index(axis=0,ascending=True)\n",
    "        res_pd.index = [i for i in range(res_pd.shape[0])]\n",
    "        return res_pd\n",
    "    \n",
    "    # 绘制曲线图\n",
    "    def plot_voltage(self):\n",
    "        plt.plot(self.data_pd_1['Time'],self.data_pd_1['Utot'],label=r'FC 1',color='b',linewidth='1')\n",
    "        plt.plot(self.data_pd_2['Time'],self.data_pd_2['Utot'],label=r'FC 2',color='r',linewidth='1')\n",
    "        plt.title(r'Total voltage')\n",
    "        plt.xlabel('Time(h)')\n",
    "        plt.ylabel(r'Voltage(V)')\n",
    "        plt.legend()\n",
    "        plt.savefig(self.pic_save_dir + r'\\\\' + r'Total voltage' + '.png')\n",
    "        plt.show()\n",
    "        \n",
    "    # 特征提取,基于变异系数删除特征\n",
    "    def del_feature_cv(self, data_pd):\n",
    "        res_pd = data_pd.copy()\n",
    "        for feature in data_pd.columns:\n",
    "            if modeling.data_pd_1[feature].std()/modeling.data_pd_1[feature].mean() > 0.15:\n",
    "                res_pd = res_pd.drop([feature], axis=1)\n",
    "        return res_pd\n",
    "    \n",
    "    # 生成相关系数热力图\n",
    "    def plot_heat_map(self):\n",
    "        \n",
    "        pass\n",
    "    \n",
    "    # 划分训练集与测试集合\n",
    "    def train_test_split(self, data_pd):\n",
    "        train_validate_pd = data_pd.loc[:round(data_pd.shape[0]*0.7),:]\n",
    "        test_pd = data_pd.loc[round(data_pd.shape[0]*0.7):,:]\n",
    "        return  train_validate_pd, test_pd\n",
    "    \n",
    "    # 输入DataFrame,输出x,y\n",
    "    def x_y_split(self, data_pd):\n",
    "        tmp_pd = data_pd.copy()\n",
    "        y = tmp_pd['Utot']\n",
    "        x = tmp_pd.drop(['Utot'],axis=1)\n",
    "        return x, y\n",
    "    \n",
    "    \n",
    "    # 数据处理，利用lasso回归的l1正则化来选取特征\n",
    "    def select_feature_lasso(self, data_pd):\n",
    "        x,y = self.x_y_split(data_pd)\n",
    "        \n",
    "        reg = Lasso()\n",
    "        model = SelectFromModel(reg)\n",
    "        x_new = model.fit_transform(x,y)\n",
    "        print(x_new.shape)\n",
    "        return x_new\n",
    "        \n",
    "    # pipeline\n",
    "    \n",
    "    "
   ],
   "metadata": {
    "collapsed": false,
    "pycharm": {
     "name": "#%%\n",
     "is_executing": false
    }
   }
  },
  {
   "cell_type": "code",
   "execution_count": 61,
   "outputs": [],
   "source": [
    "data_path_1 = r'E:\\OtherProfit\\Program\\PersonalProfit\\RandomForest\\DataSource\\fc1all_data.csv'\n",
    "data_path_2 = r'E:\\OtherProfit\\Program\\PersonalProfit\\RandomForest\\DataSource\\fc2all_data.csv'\n",
    "modeling = RandomForestModel(data_path_1=data_path_1, data_path_2=data_path_2, interval_minutes=10)"
   ],
   "metadata": {
    "collapsed": false,
    "pycharm": {
     "name": "#%%\n",
     "is_executing": false
    }
   }
  },
  {
   "cell_type": "code",
   "execution_count": 62,
   "outputs": [],
   "source": [
    "# 绘制总电压\n",
    "#modeling.plot_voltage()"
   ],
   "metadata": {
    "collapsed": false,
    "pycharm": {
     "name": "#%%\n",
     "is_executing": false
    }
   }
  },
  {
   "cell_type": "code",
   "execution_count": 63,
   "outputs": [],
   "source": [
    "train_validate_pd, test_pd = modeling.train_test_split(modeling.data_pd_1)"
   ],
   "metadata": {
    "collapsed": false,
    "pycharm": {
     "name": "#%%\n",
     "is_executing": false
    }
   }
  },
  {
   "cell_type": "code",
   "execution_count": 64,
   "outputs": [
    {
     "name": "stdout",
     "text": [
      "(4849, 1)\n"
     ],
     "output_type": "stream"
    }
   ],
   "source": [
    "x_new = modeling.select_feature_lasso(train_validate_pd)"
   ],
   "metadata": {
    "collapsed": false,
    "pycharm": {
     "name": "#%%\n",
     "is_executing": false
    }
   }
  },
  {
   "cell_type": "code",
   "execution_count": 65,
   "outputs": [
    {
     "data": {
      "text/plain": "array([[1.56389000e-04],\n       [1.66725000e-01],\n       [3.33412222e-01],\n       ...,\n       [8.07674478e+02],\n       [8.07833882e+02],\n       [8.08001678e+02]])"
     },
     "metadata": {},
     "output_type": "execute_result",
     "execution_count": 65
    }
   ],
   "source": [
    "x_new\n"
   ],
   "metadata": {
    "collapsed": false,
    "pycharm": {
     "name": "#%%\n",
     "is_executing": false
    }
   }
  }
 ],
 "metadata": {
  "language_info": {
   "codemirror_mode": {
    "name": "ipython",
    "version": 2
   },
   "file_extension": ".py",
   "mimetype": "text/x-python",
   "name": "python",
   "nbconvert_exporter": "python",
   "pygments_lexer": "ipython2",
   "version": "2.7.6"
  },
  "kernelspec": {
   "name": "python3",
   "language": "python",
   "display_name": "Python 3"
  },
  "pycharm": {
   "stem_cell": {
    "cell_type": "raw",
    "source": [],
    "metadata": {
     "collapsed": false
    }
   }
  }
 },
 "nbformat": 4,
 "nbformat_minor": 0
}